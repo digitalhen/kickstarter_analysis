{
 "cells": [
  {
   "cell_type": "markdown",
   "id": "b170e24c",
   "metadata": {},
   "source": [
    "# Check we can read the file"
   ]
  },
  {
   "cell_type": "code",
   "execution_count": 1,
   "id": "641634a8",
   "metadata": {
    "scrolled": true
   },
   "outputs": [
    {
     "name": "stdout",
     "output_type": "stream",
     "text": [
      "Looking for data here:  /home/henry/Data/Kickstarter\n",
      "Number of rows & columns:  (45957, 17)\n"
     ]
    }
   ],
   "source": [
    "import pandas as pd\n",
    "import numpy as np\n",
    "import seaborn as sns\n",
    "import matplotlib as mpl\n",
    "import matplotlib.pyplot as plt\n",
    "import calendar\n",
    "import datetime as dt\n",
    "from scipy.stats import norm\n",
    "from scipy import stats\n",
    "import statistics\n",
    "import os\n",
    "\n",
    "#plt.style.use('dark_background')\n",
    "plt.rcParams['figure.figsize'] = [10, 5]\n",
    "\n",
    "print(\"Looking for data here: \", os.getcwd())\n",
    "\n",
    "data = pd.read_csv('dataset.csv', encoding='ISO-8859–1')\n",
    "df = pd.DataFrame(data)\n",
    "print(\"Number of rows & columns: \", df.shape)"
   ]
  },
  {
   "cell_type": "markdown",
   "id": "8ba37a18",
   "metadata": {},
   "source": [
    "# Let's fix the columns so they're easier to access"
   ]
  },
  {
   "cell_type": "code",
   "execution_count": 2,
   "id": "bd6e975f",
   "metadata": {},
   "outputs": [],
   "source": [
    "# remove spaces in column names\n",
    "df.columns = df.columns.str.replace(' ', '_')"
   ]
  },
  {
   "cell_type": "markdown",
   "id": "af865b4a",
   "metadata": {},
   "source": [
    "# A little function to help us later"
   ]
  },
  {
   "cell_type": "code",
   "execution_count": 3,
   "id": "a3482ee1",
   "metadata": {},
   "outputs": [],
   "source": [
    "def is_outlier(points, thresh=3.5):\n",
    "    \"\"\"\n",
    "    Returns a boolean array with True if points are outliers and False \n",
    "    otherwise.\n",
    "\n",
    "    Parameters:\n",
    "    -----------\n",
    "        points : An numobservations by numdimensions array of observations\n",
    "        thresh : The modified z-score to use as a threshold. Observations with\n",
    "            a modified z-score (based on the median absolute deviation) greater\n",
    "            than this value will be classified as outliers.\n",
    "\n",
    "    Returns:\n",
    "    --------\n",
    "        mask : A numobservations-length boolean array.\n",
    "\n",
    "    References:\n",
    "    ----------\n",
    "        Boris Iglewicz and David Hoaglin (1993), \"Volume 16: How to Detect and\n",
    "        Handle Outliers\", The ASQC Basic References in Quality Control:\n",
    "        Statistical Techniques, Edward F. Mykytka, Ph.D., Editor. \n",
    "    \"\"\"\n",
    "    if len(points.shape) == 1:\n",
    "        points = points[:,None]\n",
    "    median = np.median(points, axis=0)\n",
    "    diff = np.sum((points - median)**2, axis=-1)\n",
    "    diff = np.sqrt(diff)\n",
    "    med_abs_deviation = np.median(diff)\n",
    "\n",
    "    modified_z_score = 0.6745 * diff / med_abs_deviation\n",
    "\n",
    "    return modified_z_score > thresh"
   ]
  },
  {
   "cell_type": "markdown",
   "id": "15983488",
   "metadata": {},
   "source": [
    "# Preview the data"
   ]
  },
  {
   "cell_type": "code",
   "execution_count": null,
   "id": "1b04073d",
   "metadata": {},
   "outputs": [],
   "source": []
  },
  {
   "cell_type": "code",
   "execution_count": 4,
   "id": "ea28fbd8",
   "metadata": {},
   "outputs": [
    {
     "data": {
      "text/html": [
       "<div>\n",
       "<style scoped>\n",
       "    .dataframe tbody tr th:only-of-type {\n",
       "        vertical-align: middle;\n",
       "    }\n",
       "\n",
       "    .dataframe tbody tr th {\n",
       "        vertical-align: top;\n",
       "    }\n",
       "\n",
       "    .dataframe thead th {\n",
       "        text-align: right;\n",
       "    }\n",
       "</style>\n",
       "<table border=\"1\" class=\"dataframe\">\n",
       "  <thead>\n",
       "    <tr style=\"text-align: right;\">\n",
       "      <th></th>\n",
       "      <th>project_id</th>\n",
       "      <th>name</th>\n",
       "      <th>url</th>\n",
       "      <th>category</th>\n",
       "      <th>subcategory</th>\n",
       "      <th>location</th>\n",
       "      <th>status</th>\n",
       "      <th>goal</th>\n",
       "      <th>pledged</th>\n",
       "      <th>funded_percentage</th>\n",
       "      <th>backers</th>\n",
       "      <th>funded_date</th>\n",
       "      <th>levels</th>\n",
       "      <th>reward_levels</th>\n",
       "      <th>updates</th>\n",
       "      <th>comments</th>\n",
       "      <th>duration</th>\n",
       "    </tr>\n",
       "  </thead>\n",
       "  <tbody>\n",
       "    <tr>\n",
       "      <th>0</th>\n",
       "      <td>39409</td>\n",
       "      <td>WHILE THE TREES SLEEP</td>\n",
       "      <td>http://www.kickstarter.com/projects/emiliesaba...</td>\n",
       "      <td>Film &amp; Video</td>\n",
       "      <td>Short Film</td>\n",
       "      <td>Columbia, MO</td>\n",
       "      <td>successful</td>\n",
       "      <td>10500.0</td>\n",
       "      <td>11545.0</td>\n",
       "      <td>1.099524</td>\n",
       "      <td>66</td>\n",
       "      <td>Fri, 19 Aug 2011 19:28:17 -0000</td>\n",
       "      <td>7</td>\n",
       "      <td>$25,$50,$100,$250,$500,$1,000,$2,500</td>\n",
       "      <td>10</td>\n",
       "      <td>2</td>\n",
       "      <td>30.00</td>\n",
       "    </tr>\n",
       "    <tr>\n",
       "      <th>1</th>\n",
       "      <td>126581</td>\n",
       "      <td>Educational Online Trading Card Game</td>\n",
       "      <td>http://www.kickstarter.com/projects/972789543/...</td>\n",
       "      <td>Games</td>\n",
       "      <td>Board &amp; Card Games</td>\n",
       "      <td>Maplewood, NJ</td>\n",
       "      <td>failed</td>\n",
       "      <td>4000.0</td>\n",
       "      <td>20.0</td>\n",
       "      <td>0.005000</td>\n",
       "      <td>2</td>\n",
       "      <td>Mon, 02 Aug 2010 03:59:00 -0000</td>\n",
       "      <td>5</td>\n",
       "      <td>$1,$5,$10,$25,$50</td>\n",
       "      <td>6</td>\n",
       "      <td>0</td>\n",
       "      <td>47.18</td>\n",
       "    </tr>\n",
       "    <tr>\n",
       "      <th>2</th>\n",
       "      <td>138119</td>\n",
       "      <td>STRUM</td>\n",
       "      <td>http://www.kickstarter.com/projects/185476022/...</td>\n",
       "      <td>Film &amp; Video</td>\n",
       "      <td>Animation</td>\n",
       "      <td>Los Angeles, CA</td>\n",
       "      <td>live</td>\n",
       "      <td>20000.0</td>\n",
       "      <td>56.0</td>\n",
       "      <td>0.002800</td>\n",
       "      <td>3</td>\n",
       "      <td>Fri, 08 Jun 2012 00:00:31 -0000</td>\n",
       "      <td>10</td>\n",
       "      <td>$1,$10,$25,$40,$50,$100,$250,$1,000,$1,337,$9,001</td>\n",
       "      <td>1</td>\n",
       "      <td>0</td>\n",
       "      <td>28.00</td>\n",
       "    </tr>\n",
       "    <tr>\n",
       "      <th>3</th>\n",
       "      <td>237090</td>\n",
       "      <td>GETTING OVER - One son's search to finally kno...</td>\n",
       "      <td>http://www.kickstarter.com/projects/charnick/g...</td>\n",
       "      <td>Film &amp; Video</td>\n",
       "      <td>Documentary</td>\n",
       "      <td>Los Angeles, CA</td>\n",
       "      <td>successful</td>\n",
       "      <td>6000.0</td>\n",
       "      <td>6535.0</td>\n",
       "      <td>1.089167</td>\n",
       "      <td>100</td>\n",
       "      <td>Sun, 08 Apr 2012 02:14:00 -0000</td>\n",
       "      <td>13</td>\n",
       "      <td>$1,$10,$25,$30,$50,$75,$85,$100,$110,$250,$500...</td>\n",
       "      <td>4</td>\n",
       "      <td>0</td>\n",
       "      <td>32.22</td>\n",
       "    </tr>\n",
       "    <tr>\n",
       "      <th>4</th>\n",
       "      <td>246101</td>\n",
       "      <td>The Launch of FlyeGrlRoyalty &amp;quot;The New Nam...</td>\n",
       "      <td>http://www.kickstarter.com/projects/flyegrlroy...</td>\n",
       "      <td>Fashion</td>\n",
       "      <td>Fashion</td>\n",
       "      <td>Novi, MI</td>\n",
       "      <td>failed</td>\n",
       "      <td>3500.0</td>\n",
       "      <td>0.0</td>\n",
       "      <td>0.000000</td>\n",
       "      <td>0</td>\n",
       "      <td>Wed, 01 Jun 2011 15:25:39 -0000</td>\n",
       "      <td>6</td>\n",
       "      <td>$10,$25,$50,$100,$150,$250</td>\n",
       "      <td>2</td>\n",
       "      <td>0</td>\n",
       "      <td>30.00</td>\n",
       "    </tr>\n",
       "    <tr>\n",
       "      <th>5</th>\n",
       "      <td>316217</td>\n",
       "      <td>Dinner Party - a short film about friendship.....</td>\n",
       "      <td>http://www.kickstarter.com/projects/249354515/...</td>\n",
       "      <td>Film &amp; Video</td>\n",
       "      <td>Short Film</td>\n",
       "      <td>Portland, OR</td>\n",
       "      <td>successful</td>\n",
       "      <td>3500.0</td>\n",
       "      <td>3582.0</td>\n",
       "      <td>1.023331</td>\n",
       "      <td>39</td>\n",
       "      <td>Wed, 22 Jun 2011 13:33:00 -0000</td>\n",
       "      <td>7</td>\n",
       "      <td>$5,$25,$50,$100,$250,$500,$1,000</td>\n",
       "      <td>8</td>\n",
       "      <td>0</td>\n",
       "      <td>21.43</td>\n",
       "    </tr>\n",
       "    <tr>\n",
       "      <th>6</th>\n",
       "      <td>325034</td>\n",
       "      <td>Mezzo</td>\n",
       "      <td>http://www.kickstarter.com/projects/geoffsaysh...</td>\n",
       "      <td>Film &amp; Video</td>\n",
       "      <td>Short Film</td>\n",
       "      <td>Collegedale, TN</td>\n",
       "      <td>failed</td>\n",
       "      <td>1000.0</td>\n",
       "      <td>280.0</td>\n",
       "      <td>0.280000</td>\n",
       "      <td>8</td>\n",
       "      <td>Sat, 18 Feb 2012 02:17:08 -0000</td>\n",
       "      <td>5</td>\n",
       "      <td>$5,$10,$25,$50,$100</td>\n",
       "      <td>0</td>\n",
       "      <td>0</td>\n",
       "      <td>30.00</td>\n",
       "    </tr>\n",
       "    <tr>\n",
       "      <th>7</th>\n",
       "      <td>407836</td>\n",
       "      <td>Help APORTA continue to make handwoven/knit ac...</td>\n",
       "      <td>http://www.kickstarter.com/projects/1078097864...</td>\n",
       "      <td>Fashion</td>\n",
       "      <td>Fashion</td>\n",
       "      <td>Chicago, IL</td>\n",
       "      <td>successful</td>\n",
       "      <td>2000.0</td>\n",
       "      <td>2180.0</td>\n",
       "      <td>1.090000</td>\n",
       "      <td>46</td>\n",
       "      <td>Fri, 30 Dec 2011 04:36:53 -0000</td>\n",
       "      <td>7</td>\n",
       "      <td>$10,$20,$50,$100,$250,$500,$1,000</td>\n",
       "      <td>13</td>\n",
       "      <td>5</td>\n",
       "      <td>30.00</td>\n",
       "    </tr>\n",
       "    <tr>\n",
       "      <th>8</th>\n",
       "      <td>436325</td>\n",
       "      <td>Music - Comedy - Album!</td>\n",
       "      <td>http://www.kickstarter.com/projects/mattgriffo...</td>\n",
       "      <td>Music</td>\n",
       "      <td>Music</td>\n",
       "      <td>Chicago, IL</td>\n",
       "      <td>successful</td>\n",
       "      <td>1000.0</td>\n",
       "      <td>1125.0</td>\n",
       "      <td>1.125000</td>\n",
       "      <td>30</td>\n",
       "      <td>Sun, 18 Apr 2010 04:59:00 -0000</td>\n",
       "      <td>12</td>\n",
       "      <td>$5,$8,$10,$15,$20,$30,$50,$100,$120,$250,$500,...</td>\n",
       "      <td>10</td>\n",
       "      <td>1</td>\n",
       "      <td>67.53</td>\n",
       "    </tr>\n",
       "    <tr>\n",
       "      <th>9</th>\n",
       "      <td>610918</td>\n",
       "      <td>The Apocalypse Calendar</td>\n",
       "      <td>http://www.kickstarter.com/projects/tqvinn/the...</td>\n",
       "      <td>Art</td>\n",
       "      <td>Illustration</td>\n",
       "      <td>Chicago, IL</td>\n",
       "      <td>successful</td>\n",
       "      <td>7500.0</td>\n",
       "      <td>9836.0</td>\n",
       "      <td>1.311527</td>\n",
       "      <td>255</td>\n",
       "      <td>Tue, 01 Nov 2011 04:59:00 -0000</td>\n",
       "      <td>10</td>\n",
       "      <td>$1,$20,$35,$50,$60,$100,$110,$500,$1,000,$1,500</td>\n",
       "      <td>6</td>\n",
       "      <td>5</td>\n",
       "      <td>35.29</td>\n",
       "    </tr>\n",
       "  </tbody>\n",
       "</table>\n",
       "</div>"
      ],
      "text/plain": [
       "   project_id                                               name  \\\n",
       "0       39409                              WHILE THE TREES SLEEP   \n",
       "1      126581               Educational Online Trading Card Game   \n",
       "2      138119                                              STRUM   \n",
       "3      237090  GETTING OVER - One son's search to finally kno...   \n",
       "4      246101  The Launch of FlyeGrlRoyalty &quot;The New Nam...   \n",
       "5      316217  Dinner Party - a short film about friendship.....   \n",
       "6      325034                                              Mezzo   \n",
       "7      407836  Help APORTA continue to make handwoven/knit ac...   \n",
       "8      436325                            Music - Comedy - Album!   \n",
       "9      610918                            The Apocalypse Calendar   \n",
       "\n",
       "                                                 url      category  \\\n",
       "0  http://www.kickstarter.com/projects/emiliesaba...  Film & Video   \n",
       "1  http://www.kickstarter.com/projects/972789543/...         Games   \n",
       "2  http://www.kickstarter.com/projects/185476022/...  Film & Video   \n",
       "3  http://www.kickstarter.com/projects/charnick/g...  Film & Video   \n",
       "4  http://www.kickstarter.com/projects/flyegrlroy...       Fashion   \n",
       "5  http://www.kickstarter.com/projects/249354515/...  Film & Video   \n",
       "6  http://www.kickstarter.com/projects/geoffsaysh...  Film & Video   \n",
       "7  http://www.kickstarter.com/projects/1078097864...       Fashion   \n",
       "8  http://www.kickstarter.com/projects/mattgriffo...         Music   \n",
       "9  http://www.kickstarter.com/projects/tqvinn/the...           Art   \n",
       "\n",
       "          subcategory         location      status     goal  pledged  \\\n",
       "0          Short Film     Columbia, MO  successful  10500.0  11545.0   \n",
       "1  Board & Card Games    Maplewood, NJ      failed   4000.0     20.0   \n",
       "2           Animation  Los Angeles, CA        live  20000.0     56.0   \n",
       "3         Documentary  Los Angeles, CA  successful   6000.0   6535.0   \n",
       "4             Fashion         Novi, MI      failed   3500.0      0.0   \n",
       "5          Short Film     Portland, OR  successful   3500.0   3582.0   \n",
       "6          Short Film  Collegedale, TN      failed   1000.0    280.0   \n",
       "7             Fashion      Chicago, IL  successful   2000.0   2180.0   \n",
       "8               Music      Chicago, IL  successful   1000.0   1125.0   \n",
       "9        Illustration      Chicago, IL  successful   7500.0   9836.0   \n",
       "\n",
       "   funded_percentage  backers                      funded_date  levels  \\\n",
       "0           1.099524       66  Fri, 19 Aug 2011 19:28:17 -0000       7   \n",
       "1           0.005000        2  Mon, 02 Aug 2010 03:59:00 -0000       5   \n",
       "2           0.002800        3  Fri, 08 Jun 2012 00:00:31 -0000      10   \n",
       "3           1.089167      100  Sun, 08 Apr 2012 02:14:00 -0000      13   \n",
       "4           0.000000        0  Wed, 01 Jun 2011 15:25:39 -0000       6   \n",
       "5           1.023331       39  Wed, 22 Jun 2011 13:33:00 -0000       7   \n",
       "6           0.280000        8  Sat, 18 Feb 2012 02:17:08 -0000       5   \n",
       "7           1.090000       46  Fri, 30 Dec 2011 04:36:53 -0000       7   \n",
       "8           1.125000       30  Sun, 18 Apr 2010 04:59:00 -0000      12   \n",
       "9           1.311527      255  Tue, 01 Nov 2011 04:59:00 -0000      10   \n",
       "\n",
       "                                       reward_levels  updates  comments  \\\n",
       "0               $25,$50,$100,$250,$500,$1,000,$2,500       10         2   \n",
       "1                                  $1,$5,$10,$25,$50        6         0   \n",
       "2  $1,$10,$25,$40,$50,$100,$250,$1,000,$1,337,$9,001        1         0   \n",
       "3  $1,$10,$25,$30,$50,$75,$85,$100,$110,$250,$500...        4         0   \n",
       "4                         $10,$25,$50,$100,$150,$250        2         0   \n",
       "5                   $5,$25,$50,$100,$250,$500,$1,000        8         0   \n",
       "6                                $5,$10,$25,$50,$100        0         0   \n",
       "7                  $10,$20,$50,$100,$250,$500,$1,000       13         5   \n",
       "8  $5,$8,$10,$15,$20,$30,$50,$100,$120,$250,$500,...       10         1   \n",
       "9    $1,$20,$35,$50,$60,$100,$110,$500,$1,000,$1,500        6         5   \n",
       "\n",
       "   duration  \n",
       "0     30.00  \n",
       "1     47.18  \n",
       "2     28.00  \n",
       "3     32.22  \n",
       "4     30.00  \n",
       "5     21.43  \n",
       "6     30.00  \n",
       "7     30.00  \n",
       "8     67.53  \n",
       "9     35.29  "
      ]
     },
     "execution_count": 4,
     "metadata": {},
     "output_type": "execute_result"
    }
   ],
   "source": [
    "df.head(10)"
   ]
  },
  {
   "cell_type": "markdown",
   "id": "92e82717",
   "metadata": {},
   "source": [
    "# Are there any duplicate rows? If so, let's get rid of them"
   ]
  },
  {
   "cell_type": "code",
   "execution_count": 5,
   "id": "da51925e",
   "metadata": {},
   "outputs": [
    {
     "data": {
      "text/plain": [
       "89"
      ]
     },
     "execution_count": 5,
     "metadata": {},
     "output_type": "execute_result"
    }
   ],
   "source": [
    "df.duplicated().sum()"
   ]
  },
  {
   "cell_type": "code",
   "execution_count": 6,
   "id": "93769aa9",
   "metadata": {},
   "outputs": [
    {
     "data": {
      "text/plain": [
       "45868"
      ]
     },
     "execution_count": 6,
     "metadata": {},
     "output_type": "execute_result"
    }
   ],
   "source": [
    "(~df.duplicated()).sum()"
   ]
  },
  {
   "cell_type": "code",
   "execution_count": 7,
   "id": "afea56de",
   "metadata": {},
   "outputs": [
    {
     "data": {
      "text/html": [
       "<div>\n",
       "<style scoped>\n",
       "    .dataframe tbody tr th:only-of-type {\n",
       "        vertical-align: middle;\n",
       "    }\n",
       "\n",
       "    .dataframe tbody tr th {\n",
       "        vertical-align: top;\n",
       "    }\n",
       "\n",
       "    .dataframe thead th {\n",
       "        text-align: right;\n",
       "    }\n",
       "</style>\n",
       "<table border=\"1\" class=\"dataframe\">\n",
       "  <thead>\n",
       "    <tr style=\"text-align: right;\">\n",
       "      <th></th>\n",
       "      <th>project_id</th>\n",
       "      <th>name</th>\n",
       "      <th>url</th>\n",
       "      <th>category</th>\n",
       "      <th>subcategory</th>\n",
       "      <th>location</th>\n",
       "      <th>status</th>\n",
       "      <th>goal</th>\n",
       "      <th>pledged</th>\n",
       "      <th>funded_percentage</th>\n",
       "      <th>backers</th>\n",
       "      <th>funded_date</th>\n",
       "      <th>levels</th>\n",
       "      <th>reward_levels</th>\n",
       "      <th>updates</th>\n",
       "      <th>comments</th>\n",
       "      <th>duration</th>\n",
       "    </tr>\n",
       "  </thead>\n",
       "  <tbody>\n",
       "    <tr>\n",
       "      <th>45652</th>\n",
       "      <td>2140333236</td>\n",
       "      <td>Imagined Family Heirlooms: An Archive of Inher...</td>\n",
       "      <td>http://www.kickstarter.com/projects/andersonst...</td>\n",
       "      <td>Photography</td>\n",
       "      <td>Photography</td>\n",
       "      <td>Little Rock, AR</td>\n",
       "      <td>successful</td>\n",
       "      <td>5800.0</td>\n",
       "      <td>8521.0</td>\n",
       "      <td>1.469138</td>\n",
       "      <td>110</td>\n",
       "      <td>Fri, 29 Jul 2011 00:53:53 -0000</td>\n",
       "      <td>16</td>\n",
       "      <td>$10,$20,$35,$50,$75,$100,$150,$200,$225,$300,$...</td>\n",
       "      <td>5</td>\n",
       "      <td>4</td>\n",
       "      <td>67.00</td>\n",
       "    </tr>\n",
       "    <tr>\n",
       "      <th>45654</th>\n",
       "      <td>2140344109</td>\n",
       "      <td>Help Fund Thana Alexa's Debut Album &amp;quot;Ode ...</td>\n",
       "      <td>http://www.kickstarter.com/projects/1024906052...</td>\n",
       "      <td>Music</td>\n",
       "      <td>Jazz</td>\n",
       "      <td>New York, NY</td>\n",
       "      <td>successful</td>\n",
       "      <td>15000.0</td>\n",
       "      <td>16678.0</td>\n",
       "      <td>1.111867</td>\n",
       "      <td>142</td>\n",
       "      <td>Sun, 20 May 2012 20:36:57 -0000</td>\n",
       "      <td>16</td>\n",
       "      <td>$1,$5,$10,$15,$25,$50,$75,$100,$200,$250,$300,...</td>\n",
       "      <td>5</td>\n",
       "      <td>2</td>\n",
       "      <td>32.00</td>\n",
       "    </tr>\n",
       "    <tr>\n",
       "      <th>45656</th>\n",
       "      <td>2140513451</td>\n",
       "      <td>The Cookie Chew - Changing the Way We Eat a Co...</td>\n",
       "      <td>http://www.kickstarter.com/projects/1650956569...</td>\n",
       "      <td>Food</td>\n",
       "      <td>Food</td>\n",
       "      <td>San Diego, CA</td>\n",
       "      <td>successful</td>\n",
       "      <td>4500.0</td>\n",
       "      <td>5540.0</td>\n",
       "      <td>1.231111</td>\n",
       "      <td>89</td>\n",
       "      <td>Tue, 24 Aug 2010 04:43:00 -0000</td>\n",
       "      <td>5</td>\n",
       "      <td>$10,$50,$75,$100,$500</td>\n",
       "      <td>14</td>\n",
       "      <td>17</td>\n",
       "      <td>43.27</td>\n",
       "    </tr>\n",
       "    <tr>\n",
       "      <th>45658</th>\n",
       "      <td>2140547791</td>\n",
       "      <td>Ant Invasion iPhone  Game App</td>\n",
       "      <td>http://www.kickstarter.com/projects/antinvasio...</td>\n",
       "      <td>Games</td>\n",
       "      <td>Video Games</td>\n",
       "      <td>Burlington, NJ</td>\n",
       "      <td>failed</td>\n",
       "      <td>5000.0</td>\n",
       "      <td>0.0</td>\n",
       "      <td>0.000000</td>\n",
       "      <td>0</td>\n",
       "      <td>Mon, 19 Sep 2011 19:08:43 -0000</td>\n",
       "      <td>7</td>\n",
       "      <td>$1,$5,$10,$20,$50,$100,$500</td>\n",
       "      <td>1</td>\n",
       "      <td>0</td>\n",
       "      <td>45.00</td>\n",
       "    </tr>\n",
       "    <tr>\n",
       "      <th>45662</th>\n",
       "      <td>2140580673</td>\n",
       "      <td>12 for '12 (2.0): Shotguns &amp;amp; Sorcery Novels</td>\n",
       "      <td>http://www.kickstarter.com/projects/forbeck/12...</td>\n",
       "      <td>Publishing</td>\n",
       "      <td>Fiction</td>\n",
       "      <td>Beloit, WI</td>\n",
       "      <td>successful</td>\n",
       "      <td>3000.0</td>\n",
       "      <td>12800.0</td>\n",
       "      <td>4.266770</td>\n",
       "      <td>332</td>\n",
       "      <td>Mon, 12 Mar 2012 04:59:00 -0000</td>\n",
       "      <td>12</td>\n",
       "      <td>$5,$25,$35,$50,$70,$100,$125,$250,$500,$1,000,...</td>\n",
       "      <td>19</td>\n",
       "      <td>18</td>\n",
       "      <td>26.56</td>\n",
       "    </tr>\n",
       "    <tr>\n",
       "      <th>...</th>\n",
       "      <td>...</td>\n",
       "      <td>...</td>\n",
       "      <td>...</td>\n",
       "      <td>...</td>\n",
       "      <td>...</td>\n",
       "      <td>...</td>\n",
       "      <td>...</td>\n",
       "      <td>...</td>\n",
       "      <td>...</td>\n",
       "      <td>...</td>\n",
       "      <td>...</td>\n",
       "      <td>...</td>\n",
       "      <td>...</td>\n",
       "      <td>...</td>\n",
       "      <td>...</td>\n",
       "      <td>...</td>\n",
       "      <td>...</td>\n",
       "    </tr>\n",
       "    <tr>\n",
       "      <th>45916</th>\n",
       "      <td>2145979243</td>\n",
       "      <td>Recycled Socks Made on an Antique Auto-Knittin...</td>\n",
       "      <td>http://www.kickstarter.com/projects/393751172/...</td>\n",
       "      <td>Design</td>\n",
       "      <td>Crafts</td>\n",
       "      <td>Seattle, WA</td>\n",
       "      <td>successful</td>\n",
       "      <td>1500.0</td>\n",
       "      <td>1630.0</td>\n",
       "      <td>1.086667</td>\n",
       "      <td>34</td>\n",
       "      <td>Thu, 03 Nov 2011 23:38:29 -0000</td>\n",
       "      <td>5</td>\n",
       "      <td>$1,$20,$25,$50,$100</td>\n",
       "      <td>6</td>\n",
       "      <td>7</td>\n",
       "      <td>30.00</td>\n",
       "    </tr>\n",
       "    <tr>\n",
       "      <th>45920</th>\n",
       "      <td>2146152736</td>\n",
       "      <td>George Romero in Zombie Squash Game</td>\n",
       "      <td>http://www.kickstarter.com/projects/1854966399...</td>\n",
       "      <td>Games</td>\n",
       "      <td>Video Games</td>\n",
       "      <td>Phoenix, AZ</td>\n",
       "      <td>live</td>\n",
       "      <td>7500.0</td>\n",
       "      <td>820.0</td>\n",
       "      <td>0.109333</td>\n",
       "      <td>9</td>\n",
       "      <td>Fri, 22 Jun 2012 07:03:26 -0000</td>\n",
       "      <td>19</td>\n",
       "      <td>$1,$2,$5,$10,$15,$25,$30,$30,$30,$40,$50,$50,$...</td>\n",
       "      <td>2</td>\n",
       "      <td>0</td>\n",
       "      <td>30.00</td>\n",
       "    </tr>\n",
       "    <tr>\n",
       "      <th>45924</th>\n",
       "      <td>2146182217</td>\n",
       "      <td>I Love You Like A Monkey</td>\n",
       "      <td>http://www.kickstarter.com/projects/971791040/...</td>\n",
       "      <td>Publishing</td>\n",
       "      <td>Children's Book</td>\n",
       "      <td>Long Island, NY</td>\n",
       "      <td>live</td>\n",
       "      <td>1200.0</td>\n",
       "      <td>47.0</td>\n",
       "      <td>0.039167</td>\n",
       "      <td>5</td>\n",
       "      <td>Mon, 18 Jun 2012 04:01:11 -0000</td>\n",
       "      <td>9</td>\n",
       "      <td>$1,$5,$10,$25,$50,$75,$100,$150,$250</td>\n",
       "      <td>0</td>\n",
       "      <td>0</td>\n",
       "      <td>30.00</td>\n",
       "    </tr>\n",
       "    <tr>\n",
       "      <th>45930</th>\n",
       "      <td>2146435917</td>\n",
       "      <td>Making Mama(s) Proud: The 2011 &amp;quot;Donna/Mad...</td>\n",
       "      <td>http://www.kickstarter.com/projects/johnpaulka...</td>\n",
       "      <td>Theater</td>\n",
       "      <td>Theater</td>\n",
       "      <td>Los Angeles, CA</td>\n",
       "      <td>successful</td>\n",
       "      <td>5000.0</td>\n",
       "      <td>5390.0</td>\n",
       "      <td>1.078000</td>\n",
       "      <td>86</td>\n",
       "      <td>Sat, 04 Jun 2011 08:56:58 -0000</td>\n",
       "      <td>8</td>\n",
       "      <td>$1,$10,$25,$50,$100,$200,$500,$1,000</td>\n",
       "      <td>5</td>\n",
       "      <td>1</td>\n",
       "      <td>30.00</td>\n",
       "    </tr>\n",
       "    <tr>\n",
       "      <th>45932</th>\n",
       "      <td>2146437406</td>\n",
       "      <td>The Production of Erasure</td>\n",
       "      <td>http://www.kickstarter.com/projects/295025953/...</td>\n",
       "      <td>Photography</td>\n",
       "      <td>Photography</td>\n",
       "      <td>Brooklyn, NY</td>\n",
       "      <td>successful</td>\n",
       "      <td>1200.0</td>\n",
       "      <td>1220.0</td>\n",
       "      <td>1.016667</td>\n",
       "      <td>17</td>\n",
       "      <td>Thu, 03 Mar 2011 04:09:38 -0000</td>\n",
       "      <td>6</td>\n",
       "      <td>$15,$25,$50,$100,$200,$500</td>\n",
       "      <td>1</td>\n",
       "      <td>0</td>\n",
       "      <td>30.00</td>\n",
       "    </tr>\n",
       "  </tbody>\n",
       "</table>\n",
       "<p>89 rows × 17 columns</p>\n",
       "</div>"
      ],
      "text/plain": [
       "       project_id                                               name  \\\n",
       "45652  2140333236  Imagined Family Heirlooms: An Archive of Inher...   \n",
       "45654  2140344109  Help Fund Thana Alexa's Debut Album &quot;Ode ...   \n",
       "45656  2140513451  The Cookie Chew - Changing the Way We Eat a Co...   \n",
       "45658  2140547791                      Ant Invasion iPhone  Game App   \n",
       "45662  2140580673    12 for '12 (2.0): Shotguns &amp; Sorcery Novels   \n",
       "...           ...                                                ...   \n",
       "45916  2145979243  Recycled Socks Made on an Antique Auto-Knittin...   \n",
       "45920  2146152736                George Romero in Zombie Squash Game   \n",
       "45924  2146182217                           I Love You Like A Monkey   \n",
       "45930  2146435917  Making Mama(s) Proud: The 2011 &quot;Donna/Mad...   \n",
       "45932  2146437406                          The Production of Erasure   \n",
       "\n",
       "                                                     url     category  \\\n",
       "45652  http://www.kickstarter.com/projects/andersonst...  Photography   \n",
       "45654  http://www.kickstarter.com/projects/1024906052...        Music   \n",
       "45656  http://www.kickstarter.com/projects/1650956569...         Food   \n",
       "45658  http://www.kickstarter.com/projects/antinvasio...        Games   \n",
       "45662  http://www.kickstarter.com/projects/forbeck/12...   Publishing   \n",
       "...                                                  ...          ...   \n",
       "45916  http://www.kickstarter.com/projects/393751172/...       Design   \n",
       "45920  http://www.kickstarter.com/projects/1854966399...        Games   \n",
       "45924  http://www.kickstarter.com/projects/971791040/...   Publishing   \n",
       "45930  http://www.kickstarter.com/projects/johnpaulka...      Theater   \n",
       "45932  http://www.kickstarter.com/projects/295025953/...  Photography   \n",
       "\n",
       "           subcategory         location      status     goal  pledged  \\\n",
       "45652      Photography  Little Rock, AR  successful   5800.0   8521.0   \n",
       "45654             Jazz     New York, NY  successful  15000.0  16678.0   \n",
       "45656             Food    San Diego, CA  successful   4500.0   5540.0   \n",
       "45658      Video Games   Burlington, NJ      failed   5000.0      0.0   \n",
       "45662          Fiction       Beloit, WI  successful   3000.0  12800.0   \n",
       "...                ...              ...         ...      ...      ...   \n",
       "45916           Crafts      Seattle, WA  successful   1500.0   1630.0   \n",
       "45920      Video Games      Phoenix, AZ        live   7500.0    820.0   \n",
       "45924  Children's Book  Long Island, NY        live   1200.0     47.0   \n",
       "45930          Theater  Los Angeles, CA  successful   5000.0   5390.0   \n",
       "45932      Photography     Brooklyn, NY  successful   1200.0   1220.0   \n",
       "\n",
       "       funded_percentage  backers                      funded_date  levels  \\\n",
       "45652           1.469138      110  Fri, 29 Jul 2011 00:53:53 -0000      16   \n",
       "45654           1.111867      142  Sun, 20 May 2012 20:36:57 -0000      16   \n",
       "45656           1.231111       89  Tue, 24 Aug 2010 04:43:00 -0000       5   \n",
       "45658           0.000000        0  Mon, 19 Sep 2011 19:08:43 -0000       7   \n",
       "45662           4.266770      332  Mon, 12 Mar 2012 04:59:00 -0000      12   \n",
       "...                  ...      ...                              ...     ...   \n",
       "45916           1.086667       34  Thu, 03 Nov 2011 23:38:29 -0000       5   \n",
       "45920           0.109333        9  Fri, 22 Jun 2012 07:03:26 -0000      19   \n",
       "45924           0.039167        5  Mon, 18 Jun 2012 04:01:11 -0000       9   \n",
       "45930           1.078000       86  Sat, 04 Jun 2011 08:56:58 -0000       8   \n",
       "45932           1.016667       17  Thu, 03 Mar 2011 04:09:38 -0000       6   \n",
       "\n",
       "                                           reward_levels  updates  comments  \\\n",
       "45652  $10,$20,$35,$50,$75,$100,$150,$200,$225,$300,$...        5         4   \n",
       "45654  $1,$5,$10,$15,$25,$50,$75,$100,$200,$250,$300,...        5         2   \n",
       "45656                              $10,$50,$75,$100,$500       14        17   \n",
       "45658                        $1,$5,$10,$20,$50,$100,$500        1         0   \n",
       "45662  $5,$25,$35,$50,$70,$100,$125,$250,$500,$1,000,...       19        18   \n",
       "...                                                  ...      ...       ...   \n",
       "45916                                $1,$20,$25,$50,$100        6         7   \n",
       "45920  $1,$2,$5,$10,$15,$25,$30,$30,$30,$40,$50,$50,$...        2         0   \n",
       "45924               $1,$5,$10,$25,$50,$75,$100,$150,$250        0         0   \n",
       "45930               $1,$10,$25,$50,$100,$200,$500,$1,000        5         1   \n",
       "45932                         $15,$25,$50,$100,$200,$500        1         0   \n",
       "\n",
       "       duration  \n",
       "45652     67.00  \n",
       "45654     32.00  \n",
       "45656     43.27  \n",
       "45658     45.00  \n",
       "45662     26.56  \n",
       "...         ...  \n",
       "45916     30.00  \n",
       "45920     30.00  \n",
       "45924     30.00  \n",
       "45930     30.00  \n",
       "45932     30.00  \n",
       "\n",
       "[89 rows x 17 columns]"
      ]
     },
     "execution_count": 7,
     "metadata": {},
     "output_type": "execute_result"
    }
   ],
   "source": [
    "df.loc[data.duplicated(), :]  # this defaults to dropping all but the first example, which is what we want"
   ]
  },
  {
   "cell_type": "code",
   "execution_count": 8,
   "id": "722d66ab",
   "metadata": {},
   "outputs": [
    {
     "data": {
      "text/html": [
       "<div>\n",
       "<style scoped>\n",
       "    .dataframe tbody tr th:only-of-type {\n",
       "        vertical-align: middle;\n",
       "    }\n",
       "\n",
       "    .dataframe tbody tr th {\n",
       "        vertical-align: top;\n",
       "    }\n",
       "\n",
       "    .dataframe thead th {\n",
       "        text-align: right;\n",
       "    }\n",
       "</style>\n",
       "<table border=\"1\" class=\"dataframe\">\n",
       "  <thead>\n",
       "    <tr style=\"text-align: right;\">\n",
       "      <th></th>\n",
       "      <th>project_id</th>\n",
       "      <th>name</th>\n",
       "      <th>url</th>\n",
       "      <th>category</th>\n",
       "      <th>subcategory</th>\n",
       "      <th>location</th>\n",
       "      <th>status</th>\n",
       "      <th>goal</th>\n",
       "      <th>pledged</th>\n",
       "      <th>funded_percentage</th>\n",
       "      <th>backers</th>\n",
       "      <th>funded_date</th>\n",
       "      <th>levels</th>\n",
       "      <th>reward_levels</th>\n",
       "      <th>updates</th>\n",
       "      <th>comments</th>\n",
       "      <th>duration</th>\n",
       "    </tr>\n",
       "  </thead>\n",
       "  <tbody>\n",
       "    <tr>\n",
       "      <th>0</th>\n",
       "      <td>39409</td>\n",
       "      <td>WHILE THE TREES SLEEP</td>\n",
       "      <td>http://www.kickstarter.com/projects/emiliesaba...</td>\n",
       "      <td>Film &amp; Video</td>\n",
       "      <td>Short Film</td>\n",
       "      <td>Columbia, MO</td>\n",
       "      <td>successful</td>\n",
       "      <td>10500.0</td>\n",
       "      <td>11545.0</td>\n",
       "      <td>1.099524</td>\n",
       "      <td>66</td>\n",
       "      <td>Fri, 19 Aug 2011 19:28:17 -0000</td>\n",
       "      <td>7</td>\n",
       "      <td>$25,$50,$100,$250,$500,$1,000,$2,500</td>\n",
       "      <td>10</td>\n",
       "      <td>2</td>\n",
       "      <td>30.00</td>\n",
       "    </tr>\n",
       "    <tr>\n",
       "      <th>1</th>\n",
       "      <td>126581</td>\n",
       "      <td>Educational Online Trading Card Game</td>\n",
       "      <td>http://www.kickstarter.com/projects/972789543/...</td>\n",
       "      <td>Games</td>\n",
       "      <td>Board &amp; Card Games</td>\n",
       "      <td>Maplewood, NJ</td>\n",
       "      <td>failed</td>\n",
       "      <td>4000.0</td>\n",
       "      <td>20.0</td>\n",
       "      <td>0.005000</td>\n",
       "      <td>2</td>\n",
       "      <td>Mon, 02 Aug 2010 03:59:00 -0000</td>\n",
       "      <td>5</td>\n",
       "      <td>$1,$5,$10,$25,$50</td>\n",
       "      <td>6</td>\n",
       "      <td>0</td>\n",
       "      <td>47.18</td>\n",
       "    </tr>\n",
       "    <tr>\n",
       "      <th>2</th>\n",
       "      <td>138119</td>\n",
       "      <td>STRUM</td>\n",
       "      <td>http://www.kickstarter.com/projects/185476022/...</td>\n",
       "      <td>Film &amp; Video</td>\n",
       "      <td>Animation</td>\n",
       "      <td>Los Angeles, CA</td>\n",
       "      <td>live</td>\n",
       "      <td>20000.0</td>\n",
       "      <td>56.0</td>\n",
       "      <td>0.002800</td>\n",
       "      <td>3</td>\n",
       "      <td>Fri, 08 Jun 2012 00:00:31 -0000</td>\n",
       "      <td>10</td>\n",
       "      <td>$1,$10,$25,$40,$50,$100,$250,$1,000,$1,337,$9,001</td>\n",
       "      <td>1</td>\n",
       "      <td>0</td>\n",
       "      <td>28.00</td>\n",
       "    </tr>\n",
       "    <tr>\n",
       "      <th>3</th>\n",
       "      <td>237090</td>\n",
       "      <td>GETTING OVER - One son's search to finally kno...</td>\n",
       "      <td>http://www.kickstarter.com/projects/charnick/g...</td>\n",
       "      <td>Film &amp; Video</td>\n",
       "      <td>Documentary</td>\n",
       "      <td>Los Angeles, CA</td>\n",
       "      <td>successful</td>\n",
       "      <td>6000.0</td>\n",
       "      <td>6535.0</td>\n",
       "      <td>1.089167</td>\n",
       "      <td>100</td>\n",
       "      <td>Sun, 08 Apr 2012 02:14:00 -0000</td>\n",
       "      <td>13</td>\n",
       "      <td>$1,$10,$25,$30,$50,$75,$85,$100,$110,$250,$500...</td>\n",
       "      <td>4</td>\n",
       "      <td>0</td>\n",
       "      <td>32.22</td>\n",
       "    </tr>\n",
       "    <tr>\n",
       "      <th>4</th>\n",
       "      <td>246101</td>\n",
       "      <td>The Launch of FlyeGrlRoyalty &amp;quot;The New Nam...</td>\n",
       "      <td>http://www.kickstarter.com/projects/flyegrlroy...</td>\n",
       "      <td>Fashion</td>\n",
       "      <td>Fashion</td>\n",
       "      <td>Novi, MI</td>\n",
       "      <td>failed</td>\n",
       "      <td>3500.0</td>\n",
       "      <td>0.0</td>\n",
       "      <td>0.000000</td>\n",
       "      <td>0</td>\n",
       "      <td>Wed, 01 Jun 2011 15:25:39 -0000</td>\n",
       "      <td>6</td>\n",
       "      <td>$10,$25,$50,$100,$150,$250</td>\n",
       "      <td>2</td>\n",
       "      <td>0</td>\n",
       "      <td>30.00</td>\n",
       "    </tr>\n",
       "    <tr>\n",
       "      <th>...</th>\n",
       "      <td>...</td>\n",
       "      <td>...</td>\n",
       "      <td>...</td>\n",
       "      <td>...</td>\n",
       "      <td>...</td>\n",
       "      <td>...</td>\n",
       "      <td>...</td>\n",
       "      <td>...</td>\n",
       "      <td>...</td>\n",
       "      <td>...</td>\n",
       "      <td>...</td>\n",
       "      <td>...</td>\n",
       "      <td>...</td>\n",
       "      <td>...</td>\n",
       "      <td>...</td>\n",
       "      <td>...</td>\n",
       "      <td>...</td>\n",
       "    </tr>\n",
       "    <tr>\n",
       "      <th>45952</th>\n",
       "      <td>2147336747</td>\n",
       "      <td>The Dance Project</td>\n",
       "      <td>http://www.kickstarter.com/projects/685772205/...</td>\n",
       "      <td>Dance</td>\n",
       "      <td>Dance</td>\n",
       "      <td>Austin, TX</td>\n",
       "      <td>successful</td>\n",
       "      <td>500.0</td>\n",
       "      <td>601.0</td>\n",
       "      <td>1.202000</td>\n",
       "      <td>13</td>\n",
       "      <td>Fri, 30 Mar 2012 13:57:00 -0000</td>\n",
       "      <td>3</td>\n",
       "      <td>$20,$50,$100</td>\n",
       "      <td>2</td>\n",
       "      <td>0</td>\n",
       "      <td>37.83</td>\n",
       "    </tr>\n",
       "    <tr>\n",
       "      <th>45953</th>\n",
       "      <td>2147346811</td>\n",
       "      <td>new album from J-Sw!ft The Adventures of Negro...</td>\n",
       "      <td>http://www.kickstarter.com/projects/170926480/...</td>\n",
       "      <td>Music</td>\n",
       "      <td>Hip-Hop</td>\n",
       "      <td>Los Angeles, CA</td>\n",
       "      <td>failed</td>\n",
       "      <td>10000.0</td>\n",
       "      <td>75.0</td>\n",
       "      <td>0.007500</td>\n",
       "      <td>2</td>\n",
       "      <td>Sun, 22 Apr 2012 02:12:10 -0000</td>\n",
       "      <td>14</td>\n",
       "      <td>$1,$5,$10,$25,$50,$50,$75,$100,$200,$250,$500,...</td>\n",
       "      <td>1</td>\n",
       "      <td>1</td>\n",
       "      <td>59.96</td>\n",
       "    </tr>\n",
       "    <tr>\n",
       "      <th>45954</th>\n",
       "      <td>2147367534</td>\n",
       "      <td>ELIZABETH REX</td>\n",
       "      <td>http://www.kickstarter.com/projects/elizabethr...</td>\n",
       "      <td>Music</td>\n",
       "      <td>Rock</td>\n",
       "      <td>Los Angeles, CA</td>\n",
       "      <td>successful</td>\n",
       "      <td>10000.0</td>\n",
       "      <td>10000.0</td>\n",
       "      <td>1.000000</td>\n",
       "      <td>58</td>\n",
       "      <td>Mon, 16 Jan 2012 05:00:00 -0000</td>\n",
       "      <td>4</td>\n",
       "      <td>$10,$25,$100,$500</td>\n",
       "      <td>2</td>\n",
       "      <td>0</td>\n",
       "      <td>27.32</td>\n",
       "    </tr>\n",
       "    <tr>\n",
       "      <th>45955</th>\n",
       "      <td>2147369705</td>\n",
       "      <td>Dragon Keepers IV Book Project</td>\n",
       "      <td>http://www.kickstarter.com/projects/brucegoldw...</td>\n",
       "      <td>Publishing</td>\n",
       "      <td>Fiction</td>\n",
       "      <td>Vero Beach, FL</td>\n",
       "      <td>failed</td>\n",
       "      <td>2999.0</td>\n",
       "      <td>257.0</td>\n",
       "      <td>0.085695</td>\n",
       "      <td>11</td>\n",
       "      <td>Sat, 19 May 2012 19:44:47 -0000</td>\n",
       "      <td>7</td>\n",
       "      <td>$15,$16,$19,$29,$29,$39,$75</td>\n",
       "      <td>17</td>\n",
       "      <td>0</td>\n",
       "      <td>30.00</td>\n",
       "    </tr>\n",
       "    <tr>\n",
       "      <th>45956</th>\n",
       "      <td>2147460119</td>\n",
       "      <td>Moments of Insight</td>\n",
       "      <td>http://www.kickstarter.com/projects/1743305220...</td>\n",
       "      <td>Art</td>\n",
       "      <td>Conceptual Art</td>\n",
       "      <td>Bozeman, MT</td>\n",
       "      <td>successful</td>\n",
       "      <td>18000.0</td>\n",
       "      <td>18758.0</td>\n",
       "      <td>1.042111</td>\n",
       "      <td>53</td>\n",
       "      <td>Thu, 04 Aug 2011 04:30:00 -0000</td>\n",
       "      <td>10</td>\n",
       "      <td>$25,$25,$50,$100,$125,$250,$500,$1,250,$2,500,...</td>\n",
       "      <td>20</td>\n",
       "      <td>4</td>\n",
       "      <td>40.38</td>\n",
       "    </tr>\n",
       "  </tbody>\n",
       "</table>\n",
       "<p>45868 rows × 17 columns</p>\n",
       "</div>"
      ],
      "text/plain": [
       "       project_id                                               name  \\\n",
       "0           39409                              WHILE THE TREES SLEEP   \n",
       "1          126581               Educational Online Trading Card Game   \n",
       "2          138119                                              STRUM   \n",
       "3          237090  GETTING OVER - One son's search to finally kno...   \n",
       "4          246101  The Launch of FlyeGrlRoyalty &quot;The New Nam...   \n",
       "...           ...                                                ...   \n",
       "45952  2147336747                                  The Dance Project   \n",
       "45953  2147346811  new album from J-Sw!ft The Adventures of Negro...   \n",
       "45954  2147367534                                      ELIZABETH REX   \n",
       "45955  2147369705                     Dragon Keepers IV Book Project   \n",
       "45956  2147460119                                 Moments of Insight   \n",
       "\n",
       "                                                     url      category  \\\n",
       "0      http://www.kickstarter.com/projects/emiliesaba...  Film & Video   \n",
       "1      http://www.kickstarter.com/projects/972789543/...         Games   \n",
       "2      http://www.kickstarter.com/projects/185476022/...  Film & Video   \n",
       "3      http://www.kickstarter.com/projects/charnick/g...  Film & Video   \n",
       "4      http://www.kickstarter.com/projects/flyegrlroy...       Fashion   \n",
       "...                                                  ...           ...   \n",
       "45952  http://www.kickstarter.com/projects/685772205/...         Dance   \n",
       "45953  http://www.kickstarter.com/projects/170926480/...         Music   \n",
       "45954  http://www.kickstarter.com/projects/elizabethr...         Music   \n",
       "45955  http://www.kickstarter.com/projects/brucegoldw...    Publishing   \n",
       "45956  http://www.kickstarter.com/projects/1743305220...           Art   \n",
       "\n",
       "              subcategory         location      status     goal  pledged  \\\n",
       "0              Short Film     Columbia, MO  successful  10500.0  11545.0   \n",
       "1      Board & Card Games    Maplewood, NJ      failed   4000.0     20.0   \n",
       "2               Animation  Los Angeles, CA        live  20000.0     56.0   \n",
       "3             Documentary  Los Angeles, CA  successful   6000.0   6535.0   \n",
       "4                 Fashion         Novi, MI      failed   3500.0      0.0   \n",
       "...                   ...              ...         ...      ...      ...   \n",
       "45952               Dance       Austin, TX  successful    500.0    601.0   \n",
       "45953             Hip-Hop  Los Angeles, CA      failed  10000.0     75.0   \n",
       "45954                Rock  Los Angeles, CA  successful  10000.0  10000.0   \n",
       "45955             Fiction   Vero Beach, FL      failed   2999.0    257.0   \n",
       "45956      Conceptual Art      Bozeman, MT  successful  18000.0  18758.0   \n",
       "\n",
       "       funded_percentage  backers                      funded_date  levels  \\\n",
       "0               1.099524       66  Fri, 19 Aug 2011 19:28:17 -0000       7   \n",
       "1               0.005000        2  Mon, 02 Aug 2010 03:59:00 -0000       5   \n",
       "2               0.002800        3  Fri, 08 Jun 2012 00:00:31 -0000      10   \n",
       "3               1.089167      100  Sun, 08 Apr 2012 02:14:00 -0000      13   \n",
       "4               0.000000        0  Wed, 01 Jun 2011 15:25:39 -0000       6   \n",
       "...                  ...      ...                              ...     ...   \n",
       "45952           1.202000       13  Fri, 30 Mar 2012 13:57:00 -0000       3   \n",
       "45953           0.007500        2  Sun, 22 Apr 2012 02:12:10 -0000      14   \n",
       "45954           1.000000       58  Mon, 16 Jan 2012 05:00:00 -0000       4   \n",
       "45955           0.085695       11  Sat, 19 May 2012 19:44:47 -0000       7   \n",
       "45956           1.042111       53  Thu, 04 Aug 2011 04:30:00 -0000      10   \n",
       "\n",
       "                                           reward_levels  updates  comments  \\\n",
       "0                   $25,$50,$100,$250,$500,$1,000,$2,500       10         2   \n",
       "1                                      $1,$5,$10,$25,$50        6         0   \n",
       "2      $1,$10,$25,$40,$50,$100,$250,$1,000,$1,337,$9,001        1         0   \n",
       "3      $1,$10,$25,$30,$50,$75,$85,$100,$110,$250,$500...        4         0   \n",
       "4                             $10,$25,$50,$100,$150,$250        2         0   \n",
       "...                                                  ...      ...       ...   \n",
       "45952                                       $20,$50,$100        2         0   \n",
       "45953  $1,$5,$10,$25,$50,$50,$75,$100,$200,$250,$500,...        1         1   \n",
       "45954                                  $10,$25,$100,$500        2         0   \n",
       "45955                        $15,$16,$19,$29,$29,$39,$75       17         0   \n",
       "45956  $25,$25,$50,$100,$125,$250,$500,$1,250,$2,500,...       20         4   \n",
       "\n",
       "       duration  \n",
       "0         30.00  \n",
       "1         47.18  \n",
       "2         28.00  \n",
       "3         32.22  \n",
       "4         30.00  \n",
       "...         ...  \n",
       "45952     37.83  \n",
       "45953     59.96  \n",
       "45954     27.32  \n",
       "45955     30.00  \n",
       "45956     40.38  \n",
       "\n",
       "[45868 rows x 17 columns]"
      ]
     },
     "execution_count": 8,
     "metadata": {},
     "output_type": "execute_result"
    }
   ],
   "source": [
    "df.drop_duplicates()"
   ]
  },
  {
   "cell_type": "markdown",
   "id": "5937a04f",
   "metadata": {},
   "source": [
    "# Do we have any missing data?"
   ]
  },
  {
   "cell_type": "code",
   "execution_count": 9,
   "id": "97f1707b",
   "metadata": {},
   "outputs": [
    {
     "data": {
      "text/plain": [
       "True"
      ]
     },
     "execution_count": 9,
     "metadata": {},
     "output_type": "execute_result"
    }
   ],
   "source": [
    "# Do we have an incomplete dataset?\n",
    "df.isna().any().any()"
   ]
  },
  {
   "cell_type": "code",
   "execution_count": 10,
   "id": "edb4c03f",
   "metadata": {},
   "outputs": [
    {
     "data": {
      "text/plain": [
       "['location', 'pledged', 'reward_levels']"
      ]
     },
     "execution_count": 10,
     "metadata": {},
     "output_type": "execute_result"
    }
   ],
   "source": [
    "# Check which columns have missing data\n",
    "df.columns[df.isna().any()].tolist()"
   ]
  },
  {
   "cell_type": "code",
   "execution_count": 11,
   "id": "304ee4c3",
   "metadata": {},
   "outputs": [
    {
     "data": {
      "text/plain": [
       "project_id           0.00\n",
       "name                 0.00\n",
       "url                  0.00\n",
       "category             0.00\n",
       "subcategory          0.00\n",
       "location             2.88\n",
       "status               0.00\n",
       "goal                 0.00\n",
       "pledged              0.03\n",
       "funded_percentage    0.00\n",
       "backers              0.00\n",
       "funded_date          0.00\n",
       "levels               0.00\n",
       "reward_levels        0.13\n",
       "updates              0.00\n",
       "comments             0.00\n",
       "duration             0.00\n",
       "dtype: float64"
      ]
     },
     "execution_count": 11,
     "metadata": {},
     "output_type": "execute_result"
    }
   ],
   "source": [
    "# What are the percentage missing in a given column\n",
    "((df.isnull() | df.isna()).sum() * 100 / df.index.size).round(2)"
   ]
  },
  {
   "cell_type": "code",
   "execution_count": 12,
   "id": "566376a8",
   "metadata": {},
   "outputs": [],
   "source": [
    "# So primarily we are missing location data, but only a small percentage"
   ]
  },
  {
   "cell_type": "markdown",
   "id": "66addbd4",
   "metadata": {},
   "source": [
    "# Let's look at the data further"
   ]
  },
  {
   "cell_type": "code",
   "execution_count": 13,
   "id": "24cf580c",
   "metadata": {},
   "outputs": [
    {
     "data": {
      "text/html": [
       "<div>\n",
       "<style scoped>\n",
       "    .dataframe tbody tr th:only-of-type {\n",
       "        vertical-align: middle;\n",
       "    }\n",
       "\n",
       "    .dataframe tbody tr th {\n",
       "        vertical-align: top;\n",
       "    }\n",
       "\n",
       "    .dataframe thead th {\n",
       "        text-align: right;\n",
       "    }\n",
       "</style>\n",
       "<table border=\"1\" class=\"dataframe\">\n",
       "  <thead>\n",
       "    <tr style=\"text-align: right;\">\n",
       "      <th></th>\n",
       "      <th>project_id</th>\n",
       "      <th>goal</th>\n",
       "      <th>pledged</th>\n",
       "      <th>funded_percentage</th>\n",
       "      <th>backers</th>\n",
       "      <th>levels</th>\n",
       "      <th>updates</th>\n",
       "      <th>comments</th>\n",
       "      <th>duration</th>\n",
       "    </tr>\n",
       "  </thead>\n",
       "  <tbody>\n",
       "    <tr>\n",
       "      <th>count</th>\n",
       "      <td>4.595700e+04</td>\n",
       "      <td>4.595700e+04</td>\n",
       "      <td>4.594500e+04</td>\n",
       "      <td>45957.000000</td>\n",
       "      <td>45957.000000</td>\n",
       "      <td>45957.000000</td>\n",
       "      <td>45957.00000</td>\n",
       "      <td>45957.000000</td>\n",
       "      <td>45957.000000</td>\n",
       "    </tr>\n",
       "    <tr>\n",
       "      <th>mean</th>\n",
       "      <td>1.080800e+09</td>\n",
       "      <td>1.194271e+04</td>\n",
       "      <td>4.980750e+03</td>\n",
       "      <td>1.850129</td>\n",
       "      <td>69.973192</td>\n",
       "      <td>8.004939</td>\n",
       "      <td>4.08508</td>\n",
       "      <td>8.379529</td>\n",
       "      <td>39.995547</td>\n",
       "    </tr>\n",
       "    <tr>\n",
       "      <th>std</th>\n",
       "      <td>6.218057e+08</td>\n",
       "      <td>1.887583e+05</td>\n",
       "      <td>5.674162e+04</td>\n",
       "      <td>88.492706</td>\n",
       "      <td>688.628479</td>\n",
       "      <td>4.233907</td>\n",
       "      <td>6.43922</td>\n",
       "      <td>174.015737</td>\n",
       "      <td>17.414458</td>\n",
       "    </tr>\n",
       "    <tr>\n",
       "      <th>min</th>\n",
       "      <td>3.940900e+04</td>\n",
       "      <td>1.000000e-02</td>\n",
       "      <td>0.000000e+00</td>\n",
       "      <td>0.000000</td>\n",
       "      <td>0.000000</td>\n",
       "      <td>0.000000</td>\n",
       "      <td>0.00000</td>\n",
       "      <td>0.000000</td>\n",
       "      <td>1.000000</td>\n",
       "    </tr>\n",
       "    <tr>\n",
       "      <th>25%</th>\n",
       "      <td>5.438962e+08</td>\n",
       "      <td>1.800000e+03</td>\n",
       "      <td>1.960000e+02</td>\n",
       "      <td>0.044000</td>\n",
       "      <td>5.000000</td>\n",
       "      <td>5.000000</td>\n",
       "      <td>0.00000</td>\n",
       "      <td>0.000000</td>\n",
       "      <td>30.000000</td>\n",
       "    </tr>\n",
       "    <tr>\n",
       "      <th>50%</th>\n",
       "      <td>1.078345e+09</td>\n",
       "      <td>4.000000e+03</td>\n",
       "      <td>1.310000e+03</td>\n",
       "      <td>1.000000</td>\n",
       "      <td>23.000000</td>\n",
       "      <td>7.000000</td>\n",
       "      <td>2.00000</td>\n",
       "      <td>0.000000</td>\n",
       "      <td>32.000000</td>\n",
       "    </tr>\n",
       "    <tr>\n",
       "      <th>75%</th>\n",
       "      <td>1.621596e+09</td>\n",
       "      <td>9.862000e+03</td>\n",
       "      <td>4.165000e+03</td>\n",
       "      <td>1.115640</td>\n",
       "      <td>59.000000</td>\n",
       "      <td>10.000000</td>\n",
       "      <td>6.00000</td>\n",
       "      <td>3.000000</td>\n",
       "      <td>48.390000</td>\n",
       "    </tr>\n",
       "    <tr>\n",
       "      <th>max</th>\n",
       "      <td>2.147460e+09</td>\n",
       "      <td>2.147484e+07</td>\n",
       "      <td>1.026684e+07</td>\n",
       "      <td>15066.000000</td>\n",
       "      <td>87142.000000</td>\n",
       "      <td>80.000000</td>\n",
       "      <td>149.00000</td>\n",
       "      <td>19311.000000</td>\n",
       "      <td>91.960000</td>\n",
       "    </tr>\n",
       "  </tbody>\n",
       "</table>\n",
       "</div>"
      ],
      "text/plain": [
       "         project_id          goal       pledged  funded_percentage  \\\n",
       "count  4.595700e+04  4.595700e+04  4.594500e+04       45957.000000   \n",
       "mean   1.080800e+09  1.194271e+04  4.980750e+03           1.850129   \n",
       "std    6.218057e+08  1.887583e+05  5.674162e+04          88.492706   \n",
       "min    3.940900e+04  1.000000e-02  0.000000e+00           0.000000   \n",
       "25%    5.438962e+08  1.800000e+03  1.960000e+02           0.044000   \n",
       "50%    1.078345e+09  4.000000e+03  1.310000e+03           1.000000   \n",
       "75%    1.621596e+09  9.862000e+03  4.165000e+03           1.115640   \n",
       "max    2.147460e+09  2.147484e+07  1.026684e+07       15066.000000   \n",
       "\n",
       "            backers        levels      updates      comments      duration  \n",
       "count  45957.000000  45957.000000  45957.00000  45957.000000  45957.000000  \n",
       "mean      69.973192      8.004939      4.08508      8.379529     39.995547  \n",
       "std      688.628479      4.233907      6.43922    174.015737     17.414458  \n",
       "min        0.000000      0.000000      0.00000      0.000000      1.000000  \n",
       "25%        5.000000      5.000000      0.00000      0.000000     30.000000  \n",
       "50%       23.000000      7.000000      2.00000      0.000000     32.000000  \n",
       "75%       59.000000     10.000000      6.00000      3.000000     48.390000  \n",
       "max    87142.000000     80.000000    149.00000  19311.000000     91.960000  "
      ]
     },
     "execution_count": 13,
     "metadata": {},
     "output_type": "execute_result"
    }
   ],
   "source": [
    "df.describe()"
   ]
  },
  {
   "cell_type": "code",
   "execution_count": 14,
   "id": "b4bb75e3",
   "metadata": {},
   "outputs": [
    {
     "data": {
      "text/plain": [
       "status\n",
       "canceled         59\n",
       "failed        18996\n",
       "live           3929\n",
       "successful    22969\n",
       "suspended         4\n",
       "dtype: int64"
      ]
     },
     "execution_count": 14,
     "metadata": {},
     "output_type": "execute_result"
    }
   ],
   "source": [
    "df.groupby('status').size()"
   ]
  },
  {
   "cell_type": "markdown",
   "id": "26d51272",
   "metadata": {},
   "source": []
  },
  {
   "cell_type": "markdown",
   "id": "056fc205",
   "metadata": {},
   "source": [
    "# Part 1 questions\n"
   ]
  },
  {
   "cell_type": "markdown",
   "id": "eceb0065",
   "metadata": {},
   "source": [
    "1. What is the mean (total) pledge that projects get? (not per backer) *"
   ]
  },
  {
   "cell_type": "code",
   "execution_count": 15,
   "id": "123fb016",
   "metadata": {},
   "outputs": [
    {
     "data": {
      "text/plain": [
       "4980.749678963979"
      ]
     },
     "execution_count": 15,
     "metadata": {},
     "output_type": "execute_result"
    }
   ],
   "source": [
    "df[\"pledged\"].mean()"
   ]
  },
  {
   "cell_type": "markdown",
   "id": "668c6276",
   "metadata": {},
   "source": [
    "2. Create a histogram that shows the distribution for number of backers. What is the skew of the distribution? *"
   ]
  },
  {
   "cell_type": "markdown",
   "id": "65d48979",
   "metadata": {},
   "source": [
    "Let's start with a simple chart"
   ]
  },
  {
   "cell_type": "code",
   "execution_count": 16,
   "id": "b4e552a4",
   "metadata": {},
   "outputs": [
    {
     "data": {
      "image/png": "[encoded data removed]",
      "text/plain": [
       "<Figure size 720x360 with 1 Axes>"
      ]
     },
     "metadata": {
      "needs_background": "light"
     },
     "output_type": "display_data"
    }
   ],
   "source": [
    "plt.hist(df['backers'])\n",
    "plt.xlabel('Number of backers')\n",
    "plt.ylabel('Count of projects')\n",
    "plt.show()"
   ]
  },
  {
   "cell_type": "markdown",
   "id": "86f02d7b",
   "metadata": {},
   "source": [
    "The default chart isn't too clear, with most projects getting very few backers. Let's check how many projects got no backers"
   ]
  },
  {
   "cell_type": "code",
   "execution_count": 17,
   "id": "9ab4ad87",
   "metadata": {},
   "outputs": [
    {
     "data": {
      "text/plain": [
       "backers\n",
       "0        3945\n",
       "1        2566\n",
       "2        1924\n",
       "3        1456\n",
       "4        1139\n",
       "         ... \n",
       "24883       1\n",
       "36276       1\n",
       "61290       1\n",
       "68929       1\n",
       "87142       1\n",
       "Length: 974, dtype: int64"
      ]
     },
     "execution_count": 17,
     "metadata": {},
     "output_type": "execute_result"
    }
   ],
   "source": [
    "df.groupby('backers').size()"
   ]
  },
  {
   "cell_type": "markdown",
   "id": "1c5429ea",
   "metadata": {},
   "source": [
    "It's pretty clear from this, and the describe() that there's a huge variation in backers, but it confirms the vast majority have very few backing. So let's try binning the data to get a more detailed chart.\n"
   ]
  },
  {
   "cell_type": "code",
   "execution_count": 18,
   "id": "44b03eea",
   "metadata": {},
   "outputs": [
    {
     "data": {
      "image/png": "[encoded data removed]",
      "text/plain": [
       "<Figure size 720x360 with 1 Axes>"
      ]
     },
     "metadata": {
      "needs_background": "light"
     },
     "output_type": "display_data"
    }
   ],
   "source": [
    "plt.hist(df['backers'], bins=100);\n",
    "plt.xlabel('Number of backers')\n",
    "plt.ylabel('Count of projects')\n",
    "plt.show()"
   ]
  },
  {
   "cell_type": "markdown",
   "id": "7b60a54a",
   "metadata": {},
   "source": [
    "Not much better. Let's explore why. The standard deviation for backers is 688.628479, with an enormous range. So let's try this again by removing the outliers. \n"
   ]
  },
  {
   "cell_type": "code",
   "execution_count": 19,
   "id": "4c025348",
   "metadata": {},
   "outputs": [
    {
     "name": "stderr",
     "output_type": "stream",
     "text": [
      "/tmp/ipykernel_483/3611878041.py:24: FutureWarning: Support for multi-dimensional indexing (e.g. `obj[:, None]`) is deprecated and will be removed in a future version.  Convert to a numpy array before indexing instead.\n",
      "  points = points[:,None]\n"
     ]
    },
    {
     "data": {
      "image/png": "[encoded data removed]",
      "text/plain": [
       "<Figure size 720x360 with 1 Axes>"
      ]
     },
     "metadata": {
      "needs_background": "light"
     },
     "output_type": "display_data"
    }
   ],
   "source": [
    "backers = df['backers']\n",
    "filtered_backers = backers[~is_outlier(backers)] # drops with a z-score of > 3.5 on both ends\n",
    "plt.hist(filtered_backers)\n",
    "plt.xlabel('Number of backers')\n",
    "plt.ylabel('Count of projects')\n",
    "plt.show()\n"
   ]
  },
  {
   "cell_type": "markdown",
   "id": "3b66b001",
   "metadata": {},
   "source": [
    "So we can conclude that the data is *right-skewed*, and the mean isn't going to be giving us a good estimate of the data. "
   ]
  },
  {
   "cell_type": "markdown",
   "id": "9942cd8b",
   "metadata": {},
   "source": [
    "3. Is the ‘duration’ variable normally distributed? *"
   ]
  },
  {
   "cell_type": "markdown",
   "id": "372c20ca",
   "metadata": {},
   "source": [
    "Let's plot what a normal distribution looks like (borrowed from here: https://www.geeksforgeeks.org/how-to-plot-normal-distribution-over-histogram-in-python/)"
   ]
  },
  {
   "cell_type": "code",
   "execution_count": 20,
   "id": "49a1f91a",
   "metadata": {},
   "outputs": [
    {
     "data": {
      "image/png": "[encoded data removed]",
      "text/plain": [
       "<Figure size 720x360 with 1 Axes>"
      ]
     },
     "metadata": {
      "needs_background": "light"
     },
     "output_type": "display_data"
    }
   ],
   "source": [
    "# Plot between -30 and 30 with\n",
    "# 0.1 steps.\n",
    "x_axis = np.arange(-30, 30, 0.1)\n",
    "    \n",
    "# Calculating mean and standard \n",
    "# deviation\n",
    "mean = statistics.mean(x_axis)\n",
    "sd = statistics.stdev(x_axis)\n",
    "    \n",
    "plt.plot(x_axis, norm.pdf(x_axis, mean, sd))\n",
    "plt.show()"
   ]
  },
  {
   "cell_type": "markdown",
   "id": "f9370d45",
   "metadata": {},
   "source": [
    "Then we can plot what the distribution of duration looks like. It certainly doesn't *look* like it conforms to normal distribution."
   ]
  },
  {
   "cell_type": "code",
   "execution_count": 21,
   "id": "3b7b1e37",
   "metadata": {},
   "outputs": [
    {
     "data": {
      "image/png": "[encoded data removed]",
      "text/plain": [
       "<Figure size 720x360 with 1 Axes>"
      ]
     },
     "metadata": {
      "needs_background": "light"
     },
     "output_type": "display_data"
    }
   ],
   "source": [
    "plt.hist(df['duration'])\n",
    "plt.xlabel('Duration of project in days')\n",
    "plt.ylabel('Count of projects')\n",
    "plt.show()"
   ]
  },
  {
   "cell_type": "markdown",
   "id": "4ba11c8a",
   "metadata": {},
   "source": [
    "Let's overlay them and check"
   ]
  },
  {
   "cell_type": "code",
   "execution_count": 22,
   "id": "0181bbf5",
   "metadata": {},
   "outputs": [
    {
     "data": {
      "image/png": "[encoded data removed]",
      "text/plain": [
       "<Figure size 720x360 with 1 Axes>"
      ]
     },
     "metadata": {
      "needs_background": "light"
     },
     "output_type": "display_data"
    }
   ],
   "source": [
    "# Let's fit a distribution to the data\n",
    "mu, std = norm.fit(df['duration'])\n",
    "\n",
    "# Plot the histogram of our data again\n",
    "plt.hist(df['duration'], bins=25, density=True, alpha=0.6, color='b')\n",
    "\n",
    "# Plot the probability density function\n",
    "xmin, xmax = plt.xlim()\n",
    "x = np.linspace(xmin, xmax, 100)\n",
    "p = norm.pdf(x, mu, std)\n",
    "  \n",
    "plt.plot(x, p, 'k', linewidth=2)\n",
    "\n",
    "plt.show()"
   ]
  },
  {
   "cell_type": "markdown",
   "id": "eee84feb",
   "metadata": {},
   "source": [
    "So, no, the distribution is *not* normal. We could develop this further, and develop a mathematical analysis to confirm once-and-for-all that it is not normal."
   ]
  },
  {
   "cell_type": "markdown",
   "id": "42e37ff2",
   "metadata": {},
   "source": [
    "# Part 2 questions"
   ]
  },
  {
   "cell_type": "markdown",
   "id": "6180c27a",
   "metadata": {},
   "source": [
    "1. What's the best length of time to run a campaign?"
   ]
  },
  {
   "cell_type": "markdown",
   "id": "3af9cd66",
   "metadata": {},
   "source": [
    "Let's group the Kickstarters together by how many days they ran for"
   ]
  },
  {
   "cell_type": "code",
   "execution_count": 75,
   "id": "fc028368",
   "metadata": {},
   "outputs": [
    {
     "data": {
      "text/html": [
       "<div>\n",
       "<style scoped>\n",
       "    .dataframe tbody tr th:only-of-type {\n",
       "        vertical-align: middle;\n",
       "    }\n",
       "\n",
       "    .dataframe tbody tr th {\n",
       "        vertical-align: top;\n",
       "    }\n",
       "\n",
       "    .dataframe thead th {\n",
       "        text-align: right;\n",
       "    }\n",
       "</style>\n",
       "<table border=\"1\" class=\"dataframe\">\n",
       "  <thead>\n",
       "    <tr style=\"text-align: right;\">\n",
       "      <th></th>\n",
       "      <th>duration_rounded</th>\n",
       "      <th>funded_percentage</th>\n",
       "    </tr>\n",
       "  </thead>\n",
       "  <tbody>\n",
       "    <tr>\n",
       "      <th>0</th>\n",
       "      <td>1.0</td>\n",
       "      <td>8.0</td>\n",
       "    </tr>\n",
       "    <tr>\n",
       "      <th>1</th>\n",
       "      <td>2.0</td>\n",
       "      <td>2.5</td>\n",
       "    </tr>\n",
       "    <tr>\n",
       "      <th>2</th>\n",
       "      <td>3.0</td>\n",
       "      <td>1.1</td>\n",
       "    </tr>\n",
       "    <tr>\n",
       "      <th>3</th>\n",
       "      <td>4.0</td>\n",
       "      <td>1.0</td>\n",
       "    </tr>\n",
       "    <tr>\n",
       "      <th>4</th>\n",
       "      <td>5.0</td>\n",
       "      <td>1.0</td>\n",
       "    </tr>\n",
       "    <tr>\n",
       "      <th>5</th>\n",
       "      <td>6.0</td>\n",
       "      <td>0.8</td>\n",
       "    </tr>\n",
       "    <tr>\n",
       "      <th>6</th>\n",
       "      <td>7.0</td>\n",
       "      <td>1.1</td>\n",
       "    </tr>\n",
       "    <tr>\n",
       "      <th>7</th>\n",
       "      <td>8.0</td>\n",
       "      <td>5.0</td>\n",
       "    </tr>\n",
       "    <tr>\n",
       "      <th>8</th>\n",
       "      <td>9.0</td>\n",
       "      <td>153.2</td>\n",
       "    </tr>\n",
       "    <tr>\n",
       "      <th>9</th>\n",
       "      <td>10.0</td>\n",
       "      <td>2.2</td>\n",
       "    </tr>\n",
       "  </tbody>\n",
       "</table>\n",
       "</div>"
      ],
      "text/plain": [
       "   duration_rounded  funded_percentage\n",
       "0               1.0                8.0\n",
       "1               2.0                2.5\n",
       "2               3.0                1.1\n",
       "3               4.0                1.0\n",
       "4               5.0                1.0\n",
       "5               6.0                0.8\n",
       "6               7.0                1.1\n",
       "7               8.0                5.0\n",
       "8               9.0              153.2\n",
       "9              10.0                2.2"
      ]
     },
     "execution_count": 75,
     "metadata": {},
     "output_type": "execute_result"
    }
   ],
   "source": [
    "df['duration_rounded'] = df['duration'].round()\n",
    "duration_grouped = df.groupby('duration_rounded').agg({'funded_percentage':'mean'}).round(decimals=1).reset_index()\n",
    "duration_grouped.head(10)"
   ]
  },
  {
   "cell_type": "markdown",
   "id": "65fddfb2",
   "metadata": {},
   "source": [
    "It's pretty clear we have some outliers in the funding percentages, so let's trim the data, and re-run the group by."
   ]
  },
  {
   "cell_type": "code",
   "execution_count": 83,
   "id": "bbd35e22",
   "metadata": {},
   "outputs": [
    {
     "name": "stderr",
     "output_type": "stream",
     "text": [
      "/tmp/ipykernel_483/3611878041.py:24: FutureWarning: Support for multi-dimensional indexing (e.g. `obj[:, None]`) is deprecated and will be removed in a future version.  Convert to a numpy array before indexing instead.\n",
      "  points = points[:,None]\n"
     ]
    },
    {
     "data": {
      "text/html": [
       "<div>\n",
       "<style scoped>\n",
       "    .dataframe tbody tr th:only-of-type {\n",
       "        vertical-align: middle;\n",
       "    }\n",
       "\n",
       "    .dataframe tbody tr th {\n",
       "        vertical-align: top;\n",
       "    }\n",
       "\n",
       "    .dataframe thead th {\n",
       "        text-align: right;\n",
       "    }\n",
       "</style>\n",
       "<table border=\"1\" class=\"dataframe\">\n",
       "  <thead>\n",
       "    <tr style=\"text-align: right;\">\n",
       "      <th></th>\n",
       "      <th>duration_rounded</th>\n",
       "      <th>funded_percentage</th>\n",
       "    </tr>\n",
       "  </thead>\n",
       "  <tbody>\n",
       "    <tr>\n",
       "      <th>0</th>\n",
       "      <td>1.0</td>\n",
       "      <td>1.0</td>\n",
       "    </tr>\n",
       "    <tr>\n",
       "      <th>1</th>\n",
       "      <td>2.0</td>\n",
       "      <td>0.9</td>\n",
       "    </tr>\n",
       "    <tr>\n",
       "      <th>2</th>\n",
       "      <td>3.0</td>\n",
       "      <td>0.8</td>\n",
       "    </tr>\n",
       "    <tr>\n",
       "      <th>3</th>\n",
       "      <td>4.0</td>\n",
       "      <td>1.0</td>\n",
       "    </tr>\n",
       "    <tr>\n",
       "      <th>4</th>\n",
       "      <td>5.0</td>\n",
       "      <td>0.9</td>\n",
       "    </tr>\n",
       "    <tr>\n",
       "      <th>5</th>\n",
       "      <td>6.0</td>\n",
       "      <td>0.8</td>\n",
       "    </tr>\n",
       "    <tr>\n",
       "      <th>6</th>\n",
       "      <td>7.0</td>\n",
       "      <td>1.0</td>\n",
       "    </tr>\n",
       "    <tr>\n",
       "      <th>7</th>\n",
       "      <td>8.0</td>\n",
       "      <td>0.9</td>\n",
       "    </tr>\n",
       "    <tr>\n",
       "      <th>8</th>\n",
       "      <td>9.0</td>\n",
       "      <td>0.9</td>\n",
       "    </tr>\n",
       "    <tr>\n",
       "      <th>9</th>\n",
       "      <td>10.0</td>\n",
       "      <td>1.0</td>\n",
       "    </tr>\n",
       "    <tr>\n",
       "      <th>10</th>\n",
       "      <td>11.0</td>\n",
       "      <td>0.9</td>\n",
       "    </tr>\n",
       "    <tr>\n",
       "      <th>11</th>\n",
       "      <td>12.0</td>\n",
       "      <td>0.9</td>\n",
       "    </tr>\n",
       "    <tr>\n",
       "      <th>12</th>\n",
       "      <td>13.0</td>\n",
       "      <td>0.9</td>\n",
       "    </tr>\n",
       "    <tr>\n",
       "      <th>13</th>\n",
       "      <td>14.0</td>\n",
       "      <td>1.0</td>\n",
       "    </tr>\n",
       "    <tr>\n",
       "      <th>14</th>\n",
       "      <td>15.0</td>\n",
       "      <td>0.9</td>\n",
       "    </tr>\n",
       "    <tr>\n",
       "      <th>15</th>\n",
       "      <td>16.0</td>\n",
       "      <td>0.9</td>\n",
       "    </tr>\n",
       "    <tr>\n",
       "      <th>16</th>\n",
       "      <td>17.0</td>\n",
       "      <td>0.9</td>\n",
       "    </tr>\n",
       "    <tr>\n",
       "      <th>17</th>\n",
       "      <td>18.0</td>\n",
       "      <td>1.0</td>\n",
       "    </tr>\n",
       "    <tr>\n",
       "      <th>18</th>\n",
       "      <td>19.0</td>\n",
       "      <td>1.1</td>\n",
       "    </tr>\n",
       "    <tr>\n",
       "      <th>19</th>\n",
       "      <td>20.0</td>\n",
       "      <td>0.8</td>\n",
       "    </tr>\n",
       "  </tbody>\n",
       "</table>\n",
       "</div>"
      ],
      "text/plain": [
       "    duration_rounded  funded_percentage\n",
       "0                1.0                1.0\n",
       "1                2.0                0.9\n",
       "2                3.0                0.8\n",
       "3                4.0                1.0\n",
       "4                5.0                0.9\n",
       "5                6.0                0.8\n",
       "6                7.0                1.0\n",
       "7                8.0                0.9\n",
       "8                9.0                0.9\n",
       "9               10.0                1.0\n",
       "10              11.0                0.9\n",
       "11              12.0                0.9\n",
       "12              13.0                0.9\n",
       "13              14.0                1.0\n",
       "14              15.0                0.9\n",
       "15              16.0                0.9\n",
       "16              17.0                0.9\n",
       "17              18.0                1.0\n",
       "18              19.0                1.1\n",
       "19              20.0                0.8"
      ]
     },
     "execution_count": 83,
     "metadata": {},
     "output_type": "execute_result"
    }
   ],
   "source": [
    "df_nodurationoutliers = df[~is_outlier(df['funded_percentage'])]\n",
    "duration_grouped = df_nodurationoutliers.groupby('duration_rounded').agg({'funded_percentage':'mean'}).round(decimals=1).reset_index()\n",
    "duration_grouped.head(20)"
   ]
  },
  {
   "cell_type": "markdown",
   "id": "fc7a5c90",
   "metadata": {},
   "source": [
    "Now, let's average out the funding percentage on each of those days."
   ]
  },
  {
   "cell_type": "code",
   "execution_count": 91,
   "id": "81ccd39b",
   "metadata": {},
   "outputs": [
    {
     "data": {
      "image/png": "[encoded data removed]",
      "text/plain": [
       "<Figure size 720x360 with 1 Axes>"
      ]
     },
     "metadata": {
      "needs_background": "light"
     },
     "output_type": "display_data"
    }
   ],
   "source": [
    "#x = duration_grouped.index.values\n",
    "#y = duration_grouped['funded_percentage']\n",
    "\n",
    "#s = sns.catplot(y='duration_rounded', x='funded_percentage', data=duration_grouped, kind='bar', height=10, aspect=1, orient = 'h')\n",
    "sns.lineplot(y='funded_percentage', x='duration_rounded', data=duration_grouped)\n",
    "plt.xlabel('Duration in Days')\n",
    "plt.ylabel('Average Funding Percentage')\n",
    "plt.title('Funding by length of campaign')\n",
    "plt.show()"
   ]
  },
  {
   "cell_type": "code",
   "execution_count": null,
   "id": "709991d7",
   "metadata": {},
   "outputs": [],
   "source": [
    "It certainly seems that there is a sweet spot of around 20 days that generates an average funding percentage over 100%."
   ]
  },
  {
   "cell_type": "markdown",
   "id": "67b33265",
   "metadata": {},
   "source": [
    "2. What's the ideal pledge goal?"
   ]
  },
  {
   "cell_type": "code",
   "execution_count": 96,
   "id": "ec2cc1b0",
   "metadata": {},
   "outputs": [
    {
     "data": {
      "image/png": "[encoded data removed]",
      "text/plain": [
       "<Figure size 432x216 with 1 Axes>"
      ]
     },
     "metadata": {
      "needs_background": "light"
     },
     "output_type": "display_data"
    }
   ],
   "source": [
    "# Borrowing from here: https://www.geeksforgeeks.org/plotting-different-types-of-plots-using-factor-plot-in-seaborn/\n",
    "# Plot showing rates of success by duration, with a confidence indicator\n",
    "sns.catplot(x='status', y='goal', kind='bar', data=df, height=3, aspect=2)\n",
    "plt.xlabel('Kickstarter Outcome')\n",
    "plt.ylabel('Funding Goal')\n",
    "plt.title('Funding Level Outcomes')\n",
    "plt.show()"
   ]
  },
  {
   "cell_type": "markdown",
   "id": "e500aac5",
   "metadata": {},
   "source": [
    "That's very interesting. Successful projects seem to have small goals, and little variation in that goal. Let's do some of the standard deviation of the goal amounts to confirm that's the case."
   ]
  },
  {
   "cell_type": "code",
   "execution_count": 26,
   "id": "e7b7aef0",
   "metadata": {},
   "outputs": [
    {
     "data": {
      "text/plain": [
       "12363.78116116044"
      ]
     },
     "execution_count": 26,
     "metadata": {},
     "output_type": "execute_result"
    }
   ],
   "source": [
    "onlysuccess = df[df['status'] == 'successful']\n",
    "np.std(onlysuccess['goal'])"
   ]
  },
  {
   "cell_type": "code",
   "execution_count": 27,
   "id": "26f0d867",
   "metadata": {},
   "outputs": [
    {
     "data": {
      "text/plain": [
       "188756.24941071382"
      ]
     },
     "execution_count": 27,
     "metadata": {},
     "output_type": "execute_result"
    }
   ],
   "source": [
    "np.std(df['goal'])"
   ]
  },
  {
   "cell_type": "markdown",
   "id": "8316ca29",
   "metadata": {},
   "source": [
    "So comparing the standard deviation of only the successful projects vs. the full data set, we can see there's significantly lower variation. "
   ]
  },
  {
   "cell_type": "code",
   "execution_count": 28,
   "id": "feb003d8",
   "metadata": {},
   "outputs": [
    {
     "data": {
      "text/plain": [
       "5483.827983368888"
      ]
     },
     "execution_count": 28,
     "metadata": {},
     "output_type": "execute_result"
    }
   ],
   "source": [
    "np.mean(onlysuccess['goal'])"
   ]
  },
  {
   "cell_type": "markdown",
   "id": "576b8f0b",
   "metadata": {},
   "source": [
    "So we could say the ideal funding goal is just $5,483. But let's take it a bit further: what happens to those projects once they hit their funding goals."
   ]
  },
  {
   "cell_type": "code",
   "execution_count": 29,
   "id": "096fdb9e",
   "metadata": {},
   "outputs": [
    {
     "data": {
      "image/png": "[encoded data removed]",
      "text/plain": [
       "<Figure size 720x360 with 1 Axes>"
      ]
     },
     "metadata": {
      "needs_background": "light"
     },
     "output_type": "display_data"
    }
   ],
   "source": [
    "x = onlysuccess['goal']\n",
    "y = onlysuccess['funded_percentage']\n",
    "\n",
    "plt.scatter(x,y)\n",
    "plt.xlabel('Funding Goal')\n",
    "plt.ylabel('Funding Percentage')\n",
    "plt.show()"
   ]
  },
  {
   "cell_type": "markdown",
   "id": "a560d481",
   "metadata": {},
   "source": [
    "We've obviously got some outliers here that are obscuring the data. Let's trim them off, and take another look."
   ]
  },
  {
   "cell_type": "code",
   "execution_count": 30,
   "id": "9815db2f",
   "metadata": {},
   "outputs": [
    {
     "name": "stderr",
     "output_type": "stream",
     "text": [
      "/tmp/ipykernel_483/3611878041.py:24: FutureWarning: Support for multi-dimensional indexing (e.g. `obj[:, None]`) is deprecated and will be removed in a future version.  Convert to a numpy array before indexing instead.\n",
      "  points = points[:,None]\n"
     ]
    },
    {
     "data": {
      "image/png": "[encoded data removed]",
      "text/plain": [
       "<Figure size 720x360 with 1 Axes>"
      ]
     },
     "metadata": {
      "needs_background": "light"
     },
     "output_type": "display_data"
    }
   ],
   "source": [
    "filtered_success = onlysuccess[~is_outlier(onlysuccess['funded_percentage'])]\n",
    "filtered_success = filtered_success[~is_outlier(filtered_success['goal'])]\n",
    "\n",
    "x = filtered_success['goal']\n",
    "y = filtered_success['funded_percentage']\n",
    "\n",
    "plt.scatter(x,y)\n",
    "plt.xlabel('Funding Goal')\n",
    "plt.ylabel('Funding Percentage')\n",
    "plt.show()"
   ]
  },
  {
   "cell_type": "markdown",
   "id": "375927dd",
   "metadata": {},
   "source": [
    "There's definitely something worth exploring more here, but the trend certainly seems to be that projects below $8,000 have the highest chance of success, and the highest chance of getting significantly above their funding goal."
   ]
  },
  {
   "cell_type": "markdown",
   "id": "f4a4ad30",
   "metadata": {},
   "source": [
    "3. What type of projects would be most successful at getting funded?"
   ]
  },
  {
   "cell_type": "markdown",
   "id": "a62b328c",
   "metadata": {},
   "source": [
    "Let's see what kinds of projects we have"
   ]
  },
  {
   "cell_type": "code",
   "execution_count": 31,
   "id": "b6013dc0",
   "metadata": {
    "scrolled": true
   },
   "outputs": [
    {
     "data": {
      "text/plain": [
       "array(['Film & Video', 'Games', 'Fashion', 'Music', 'Art', 'Technology',\n",
       "       'Dance', 'Publishing', 'Theater', 'Comics', 'Design',\n",
       "       'Photography', 'Food', 'Film &amp; Video'], dtype=object)"
      ]
     },
     "execution_count": 31,
     "metadata": {},
     "output_type": "execute_result"
    }
   ],
   "source": [
    "df['category'].unique()\n",
    "\n",
    "\n"
   ]
  },
  {
   "cell_type": "markdown",
   "id": "95571888",
   "metadata": {},
   "source": [
    "A small bit of cleaning up to do, so let's swap that escaped coding to something a bit cleaner."
   ]
  },
  {
   "cell_type": "code",
   "execution_count": 32,
   "id": "bbb37db1",
   "metadata": {},
   "outputs": [
    {
     "data": {
      "text/plain": [
       "['Film & Video',\n",
       " 'Games',\n",
       " 'Fashion',\n",
       " 'Music',\n",
       " 'Art',\n",
       " 'Technology',\n",
       " 'Dance',\n",
       " 'Publishing',\n",
       " 'Theater',\n",
       " 'Comics',\n",
       " 'Design',\n",
       " 'Photography',\n",
       " 'Food']"
      ]
     },
     "execution_count": 32,
     "metadata": {},
     "output_type": "execute_result"
    }
   ],
   "source": [
    "df['category'] = df['category'].str.replace('&amp;','&')\n",
    "df['category'].unique().tolist()"
   ]
  },
  {
   "cell_type": "markdown",
   "id": "bf4ec89c",
   "metadata": {},
   "source": [
    "Ok, let's extract some magic from the data, and see what the success/failure percentages were for each category."
   ]
  },
  {
   "cell_type": "code",
   "execution_count": 33,
   "id": "f89e9bcc",
   "metadata": {},
   "outputs": [
    {
     "name": "stdout",
     "output_type": "stream",
     "text": [
      "        category      status       name\n",
      "0            Art      failed  39.704409\n",
      "1            Art        live   7.540080\n",
      "2            Art  successful  52.755511\n",
      "3         Comics      failed  41.791045\n",
      "4         Comics        live   9.701493\n",
      "5         Comics  successful  48.507463\n",
      "6          Dance      failed  23.653088\n",
      "7          Dance        live   7.095926\n",
      "8          Dance  successful  69.250986\n",
      "9         Design    canceled   0.113122\n",
      "10        Design      failed  47.341629\n",
      "11        Design        live  11.199095\n",
      "12        Design  successful  41.233032\n",
      "13        Design   suspended   0.113122\n",
      "14       Fashion      failed  60.211268\n",
      "15       Fashion        live  10.299296\n",
      "16       Fashion  successful  29.489437\n",
      "17  Film & Video    canceled   0.169729\n",
      "18  Film & Video      failed  45.546454\n",
      "19  Film & Video        live   6.877721\n",
      "20  Film & Video  successful  47.398716\n",
      "21  Film & Video   suspended   0.007380\n",
      "22          Food    canceled   0.208478\n",
      "23          Food      failed  44.683808\n",
      "24          Food        live   9.589993\n",
      "25          Food  successful  45.517721\n",
      "26         Games    canceled   0.575374\n",
      "27         Games      failed  47.871116\n",
      "28         Games        live  15.017261\n",
      "29         Games  successful  36.536249\n",
      "30         Music    canceled   0.082470\n",
      "31         Music      failed  29.881792\n",
      "32         Music        live   7.798039\n",
      "33         Music  successful  62.237698\n",
      "34   Photography      failed  49.009247\n",
      "35   Photography        live   8.388375\n",
      "36   Photography  successful  42.602378\n",
      "37    Publishing    canceled   0.209644\n",
      "38    Publishing      failed  52.075472\n",
      "39    Publishing        live  12.683438\n",
      "40    Publishing  successful  35.031447\n",
      "41    Technology    canceled   0.246609\n",
      "42    Technology      failed  55.240444\n",
      "43    Technology        live   8.754624\n",
      "44    Technology  successful  35.635018\n",
      "45    Technology   suspended   0.123305\n",
      "46       Theater      failed  27.287319\n",
      "47       Theater        live   6.821830\n",
      "48       Theater  successful  65.890851\n"
     ]
    }
   ],
   "source": [
    "# Pivot the data on category and status\n",
    "category_grouped = df.groupby(['category', 'status']).agg({'name': 'count'})\n",
    "\n",
    "# Calculate the data as a percentage of its peers \n",
    "category_grouped_percents = category_grouped.groupby(level=0).apply(lambda x: 100 * x / float(x.sum())).reset_index()\n",
    "\n",
    "# Let's see it\n",
    "print(category_grouped_percents)"
   ]
  },
  {
   "cell_type": "markdown",
   "id": "69cd629e",
   "metadata": {},
   "source": [
    "And now make it into a chart..."
   ]
  },
  {
   "cell_type": "code",
   "execution_count": 34,
   "id": "e5444603",
   "metadata": {
    "scrolled": false
   },
   "outputs": [
    {
     "name": "stderr",
     "output_type": "stream",
     "text": [
      "/home/henry/Data/Kickstarter/kickstarter-data/lib/python3.8/site-packages/seaborn/categorical.py:3717: UserWarning: The `factorplot` function has been renamed to `catplot`. The original name will be removed in a future release. Please update your code. Note that the default `kind` in `factorplot` (`'point'`) has changed `'strip'` in `catplot`.\n",
      "  warnings.warn(msg)\n"
     ]
    },
    {
     "data": {
      "image/png": "[encoded data removed]",
      "text/plain": [
       "<Figure size 360x360 with 1 Axes>"
      ]
     },
     "metadata": {
      "needs_background": "light"
     },
     "output_type": "display_data"
    }
   ],
   "source": [
    "# Bar charts!\n",
    "category_grouped_percents_successonly = category_grouped_percents[category_grouped_percents['status']=='successful']\n",
    "\n",
    "sns.factorplot(y='category', x='name', data=category_grouped_percents_successonly, kind='bar')\n",
    "plt.xlabel('% Successful Projects')\n",
    "plt.ylabel('Category')\n",
    "plt.title('Success by Category')\n",
    "plt.show()"
   ]
  },
  {
   "cell_type": "markdown",
   "id": "a6c934aa",
   "metadata": {},
   "source": [
    "It's pretty clear that the standout projects are Dance, Music and Theatre. But how many were they of the total? Let's quickly look back at the categories."
   ]
  },
  {
   "cell_type": "code",
   "execution_count": 35,
   "id": "b138b358",
   "metadata": {},
   "outputs": [
    {
     "data": {
      "text/html": [
       "<div>\n",
       "<style scoped>\n",
       "    .dataframe tbody tr th:only-of-type {\n",
       "        vertical-align: middle;\n",
       "    }\n",
       "\n",
       "    .dataframe tbody tr th {\n",
       "        vertical-align: top;\n",
       "    }\n",
       "\n",
       "    .dataframe thead th {\n",
       "        text-align: right;\n",
       "    }\n",
       "</style>\n",
       "<table border=\"1\" class=\"dataframe\">\n",
       "  <thead>\n",
       "    <tr style=\"text-align: right;\">\n",
       "      <th></th>\n",
       "      <th>name</th>\n",
       "    </tr>\n",
       "    <tr>\n",
       "      <th>category</th>\n",
       "      <th></th>\n",
       "    </tr>\n",
       "  </thead>\n",
       "  <tbody>\n",
       "    <tr>\n",
       "      <th>Art</th>\n",
       "      <td>3992</td>\n",
       "    </tr>\n",
       "    <tr>\n",
       "      <th>Comics</th>\n",
       "      <td>1072</td>\n",
       "    </tr>\n",
       "    <tr>\n",
       "      <th>Dance</th>\n",
       "      <td>761</td>\n",
       "    </tr>\n",
       "    <tr>\n",
       "      <th>Design</th>\n",
       "      <td>1768</td>\n",
       "    </tr>\n",
       "    <tr>\n",
       "      <th>Fashion</th>\n",
       "      <td>1136</td>\n",
       "    </tr>\n",
       "    <tr>\n",
       "      <th>Film &amp; Video</th>\n",
       "      <td>13551</td>\n",
       "    </tr>\n",
       "    <tr>\n",
       "      <th>Food</th>\n",
       "      <td>1439</td>\n",
       "    </tr>\n",
       "    <tr>\n",
       "      <th>Games</th>\n",
       "      <td>1738</td>\n",
       "    </tr>\n",
       "    <tr>\n",
       "      <th>Music</th>\n",
       "      <td>10913</td>\n",
       "    </tr>\n",
       "    <tr>\n",
       "      <th>Photography</th>\n",
       "      <td>1514</td>\n",
       "    </tr>\n",
       "    <tr>\n",
       "      <th>Publishing</th>\n",
       "      <td>4770</td>\n",
       "    </tr>\n",
       "    <tr>\n",
       "      <th>Technology</th>\n",
       "      <td>811</td>\n",
       "    </tr>\n",
       "    <tr>\n",
       "      <th>Theater</th>\n",
       "      <td>2492</td>\n",
       "    </tr>\n",
       "  </tbody>\n",
       "</table>\n",
       "</div>"
      ],
      "text/plain": [
       "               name\n",
       "category           \n",
       "Art            3992\n",
       "Comics         1072\n",
       "Dance           761\n",
       "Design         1768\n",
       "Fashion        1136\n",
       "Film & Video  13551\n",
       "Food           1439\n",
       "Games          1738\n",
       "Music         10913\n",
       "Photography    1514\n",
       "Publishing     4770\n",
       "Technology      811\n",
       "Theater        2492"
      ]
     },
     "execution_count": 35,
     "metadata": {},
     "output_type": "execute_result"
    }
   ],
   "source": [
    "df.groupby(['category']).agg({'name': 'count'})"
   ]
  },
  {
   "cell_type": "markdown",
   "id": "09fcd147",
   "metadata": {},
   "source": [
    "Dance is just a fraction of the projects in this dataset, but the many Music and Theater projects certainly have a high chance of success."
   ]
  },
  {
   "cell_type": "markdown",
   "id": "dcca56c0",
   "metadata": {},
   "source": [
    "4. Is there an ideal month/day/time to launch a campaign?"
   ]
  },
  {
   "cell_type": "markdown",
   "id": "3f26c17e",
   "metadata": {},
   "source": [
    "When we looked at the data back at the start, we could see the date & time is a single field. \n",
    "\n",
    "_One thing to note is that_ -- without a data dictionary -- we don't know what \"funded_date\" represents. If it's actually the *end* of the funding period, we would need to subtract the 'duration' field from the funded_date field, to get the accurate state date. \n",
    "\n",
    "However, we can see that it is Zulu time (GMT), so let's convert that to US Pacific time first. Then let's split it out into month, day of the week, time of day. "
   ]
  },
  {
   "cell_type": "code",
   "execution_count": 36,
   "id": "a4749f12",
   "metadata": {},
   "outputs": [
    {
     "data": {
      "text/html": [
       "<div>\n",
       "<style scoped>\n",
       "    .dataframe tbody tr th:only-of-type {\n",
       "        vertical-align: middle;\n",
       "    }\n",
       "\n",
       "    .dataframe tbody tr th {\n",
       "        vertical-align: top;\n",
       "    }\n",
       "\n",
       "    .dataframe thead th {\n",
       "        text-align: right;\n",
       "    }\n",
       "</style>\n",
       "<table border=\"1\" class=\"dataframe\">\n",
       "  <thead>\n",
       "    <tr style=\"text-align: right;\">\n",
       "      <th></th>\n",
       "      <th>project_id</th>\n",
       "      <th>name</th>\n",
       "      <th>url</th>\n",
       "      <th>category</th>\n",
       "      <th>subcategory</th>\n",
       "      <th>location</th>\n",
       "      <th>status</th>\n",
       "      <th>goal</th>\n",
       "      <th>pledged</th>\n",
       "      <th>funded_percentage</th>\n",
       "      <th>...</th>\n",
       "      <th>funded_date</th>\n",
       "      <th>levels</th>\n",
       "      <th>reward_levels</th>\n",
       "      <th>updates</th>\n",
       "      <th>comments</th>\n",
       "      <th>duration</th>\n",
       "      <th>duration_rounded</th>\n",
       "      <th>funded_date_month</th>\n",
       "      <th>funded_date_dayofweek</th>\n",
       "      <th>funded_date_hour</th>\n",
       "    </tr>\n",
       "  </thead>\n",
       "  <tbody>\n",
       "    <tr>\n",
       "      <th>0</th>\n",
       "      <td>39409</td>\n",
       "      <td>WHILE THE TREES SLEEP</td>\n",
       "      <td>http://www.kickstarter.com/projects/emiliesaba...</td>\n",
       "      <td>Film &amp; Video</td>\n",
       "      <td>Short Film</td>\n",
       "      <td>Columbia, MO</td>\n",
       "      <td>successful</td>\n",
       "      <td>10500.0</td>\n",
       "      <td>11545.0</td>\n",
       "      <td>1.099524</td>\n",
       "      <td>...</td>\n",
       "      <td>2011-08-19 12:28:17-07:00</td>\n",
       "      <td>7</td>\n",
       "      <td>$25,$50,$100,$250,$500,$1,000,$2,500</td>\n",
       "      <td>10</td>\n",
       "      <td>2</td>\n",
       "      <td>30.00</td>\n",
       "      <td>30.0</td>\n",
       "      <td>August</td>\n",
       "      <td>Friday</td>\n",
       "      <td>12</td>\n",
       "    </tr>\n",
       "    <tr>\n",
       "      <th>1</th>\n",
       "      <td>126581</td>\n",
       "      <td>Educational Online Trading Card Game</td>\n",
       "      <td>http://www.kickstarter.com/projects/972789543/...</td>\n",
       "      <td>Games</td>\n",
       "      <td>Board &amp; Card Games</td>\n",
       "      <td>Maplewood, NJ</td>\n",
       "      <td>failed</td>\n",
       "      <td>4000.0</td>\n",
       "      <td>20.0</td>\n",
       "      <td>0.005000</td>\n",
       "      <td>...</td>\n",
       "      <td>2010-08-01 20:59:00-07:00</td>\n",
       "      <td>5</td>\n",
       "      <td>$1,$5,$10,$25,$50</td>\n",
       "      <td>6</td>\n",
       "      <td>0</td>\n",
       "      <td>47.18</td>\n",
       "      <td>47.0</td>\n",
       "      <td>August</td>\n",
       "      <td>Sunday</td>\n",
       "      <td>20</td>\n",
       "    </tr>\n",
       "    <tr>\n",
       "      <th>2</th>\n",
       "      <td>138119</td>\n",
       "      <td>STRUM</td>\n",
       "      <td>http://www.kickstarter.com/projects/185476022/...</td>\n",
       "      <td>Film &amp; Video</td>\n",
       "      <td>Animation</td>\n",
       "      <td>Los Angeles, CA</td>\n",
       "      <td>live</td>\n",
       "      <td>20000.0</td>\n",
       "      <td>56.0</td>\n",
       "      <td>0.002800</td>\n",
       "      <td>...</td>\n",
       "      <td>2012-06-07 17:00:31-07:00</td>\n",
       "      <td>10</td>\n",
       "      <td>$1,$10,$25,$40,$50,$100,$250,$1,000,$1,337,$9,001</td>\n",
       "      <td>1</td>\n",
       "      <td>0</td>\n",
       "      <td>28.00</td>\n",
       "      <td>28.0</td>\n",
       "      <td>June</td>\n",
       "      <td>Thursday</td>\n",
       "      <td>17</td>\n",
       "    </tr>\n",
       "    <tr>\n",
       "      <th>3</th>\n",
       "      <td>237090</td>\n",
       "      <td>GETTING OVER - One son's search to finally kno...</td>\n",
       "      <td>http://www.kickstarter.com/projects/charnick/g...</td>\n",
       "      <td>Film &amp; Video</td>\n",
       "      <td>Documentary</td>\n",
       "      <td>Los Angeles, CA</td>\n",
       "      <td>successful</td>\n",
       "      <td>6000.0</td>\n",
       "      <td>6535.0</td>\n",
       "      <td>1.089167</td>\n",
       "      <td>...</td>\n",
       "      <td>2012-04-07 19:14:00-07:00</td>\n",
       "      <td>13</td>\n",
       "      <td>$1,$10,$25,$30,$50,$75,$85,$100,$110,$250,$500...</td>\n",
       "      <td>4</td>\n",
       "      <td>0</td>\n",
       "      <td>32.22</td>\n",
       "      <td>32.0</td>\n",
       "      <td>April</td>\n",
       "      <td>Saturday</td>\n",
       "      <td>19</td>\n",
       "    </tr>\n",
       "    <tr>\n",
       "      <th>4</th>\n",
       "      <td>246101</td>\n",
       "      <td>The Launch of FlyeGrlRoyalty &amp;quot;The New Nam...</td>\n",
       "      <td>http://www.kickstarter.com/projects/flyegrlroy...</td>\n",
       "      <td>Fashion</td>\n",
       "      <td>Fashion</td>\n",
       "      <td>Novi, MI</td>\n",
       "      <td>failed</td>\n",
       "      <td>3500.0</td>\n",
       "      <td>0.0</td>\n",
       "      <td>0.000000</td>\n",
       "      <td>...</td>\n",
       "      <td>2011-06-01 08:25:39-07:00</td>\n",
       "      <td>6</td>\n",
       "      <td>$10,$25,$50,$100,$150,$250</td>\n",
       "      <td>2</td>\n",
       "      <td>0</td>\n",
       "      <td>30.00</td>\n",
       "      <td>30.0</td>\n",
       "      <td>June</td>\n",
       "      <td>Wednesday</td>\n",
       "      <td>8</td>\n",
       "    </tr>\n",
       "    <tr>\n",
       "      <th>5</th>\n",
       "      <td>316217</td>\n",
       "      <td>Dinner Party - a short film about friendship.....</td>\n",
       "      <td>http://www.kickstarter.com/projects/249354515/...</td>\n",
       "      <td>Film &amp; Video</td>\n",
       "      <td>Short Film</td>\n",
       "      <td>Portland, OR</td>\n",
       "      <td>successful</td>\n",
       "      <td>3500.0</td>\n",
       "      <td>3582.0</td>\n",
       "      <td>1.023331</td>\n",
       "      <td>...</td>\n",
       "      <td>2011-06-22 06:33:00-07:00</td>\n",
       "      <td>7</td>\n",
       "      <td>$5,$25,$50,$100,$250,$500,$1,000</td>\n",
       "      <td>8</td>\n",
       "      <td>0</td>\n",
       "      <td>21.43</td>\n",
       "      <td>21.0</td>\n",
       "      <td>June</td>\n",
       "      <td>Wednesday</td>\n",
       "      <td>6</td>\n",
       "    </tr>\n",
       "    <tr>\n",
       "      <th>6</th>\n",
       "      <td>325034</td>\n",
       "      <td>Mezzo</td>\n",
       "      <td>http://www.kickstarter.com/projects/geoffsaysh...</td>\n",
       "      <td>Film &amp; Video</td>\n",
       "      <td>Short Film</td>\n",
       "      <td>Collegedale, TN</td>\n",
       "      <td>failed</td>\n",
       "      <td>1000.0</td>\n",
       "      <td>280.0</td>\n",
       "      <td>0.280000</td>\n",
       "      <td>...</td>\n",
       "      <td>2012-02-17 18:17:08-08:00</td>\n",
       "      <td>5</td>\n",
       "      <td>$5,$10,$25,$50,$100</td>\n",
       "      <td>0</td>\n",
       "      <td>0</td>\n",
       "      <td>30.00</td>\n",
       "      <td>30.0</td>\n",
       "      <td>February</td>\n",
       "      <td>Friday</td>\n",
       "      <td>18</td>\n",
       "    </tr>\n",
       "    <tr>\n",
       "      <th>7</th>\n",
       "      <td>407836</td>\n",
       "      <td>Help APORTA continue to make handwoven/knit ac...</td>\n",
       "      <td>http://www.kickstarter.com/projects/1078097864...</td>\n",
       "      <td>Fashion</td>\n",
       "      <td>Fashion</td>\n",
       "      <td>Chicago, IL</td>\n",
       "      <td>successful</td>\n",
       "      <td>2000.0</td>\n",
       "      <td>2180.0</td>\n",
       "      <td>1.090000</td>\n",
       "      <td>...</td>\n",
       "      <td>2011-12-29 20:36:53-08:00</td>\n",
       "      <td>7</td>\n",
       "      <td>$10,$20,$50,$100,$250,$500,$1,000</td>\n",
       "      <td>13</td>\n",
       "      <td>5</td>\n",
       "      <td>30.00</td>\n",
       "      <td>30.0</td>\n",
       "      <td>December</td>\n",
       "      <td>Thursday</td>\n",
       "      <td>20</td>\n",
       "    </tr>\n",
       "    <tr>\n",
       "      <th>8</th>\n",
       "      <td>436325</td>\n",
       "      <td>Music - Comedy - Album!</td>\n",
       "      <td>http://www.kickstarter.com/projects/mattgriffo...</td>\n",
       "      <td>Music</td>\n",
       "      <td>Music</td>\n",
       "      <td>Chicago, IL</td>\n",
       "      <td>successful</td>\n",
       "      <td>1000.0</td>\n",
       "      <td>1125.0</td>\n",
       "      <td>1.125000</td>\n",
       "      <td>...</td>\n",
       "      <td>2010-04-17 21:59:00-07:00</td>\n",
       "      <td>12</td>\n",
       "      <td>$5,$8,$10,$15,$20,$30,$50,$100,$120,$250,$500,...</td>\n",
       "      <td>10</td>\n",
       "      <td>1</td>\n",
       "      <td>67.53</td>\n",
       "      <td>68.0</td>\n",
       "      <td>April</td>\n",
       "      <td>Saturday</td>\n",
       "      <td>21</td>\n",
       "    </tr>\n",
       "    <tr>\n",
       "      <th>9</th>\n",
       "      <td>610918</td>\n",
       "      <td>The Apocalypse Calendar</td>\n",
       "      <td>http://www.kickstarter.com/projects/tqvinn/the...</td>\n",
       "      <td>Art</td>\n",
       "      <td>Illustration</td>\n",
       "      <td>Chicago, IL</td>\n",
       "      <td>successful</td>\n",
       "      <td>7500.0</td>\n",
       "      <td>9836.0</td>\n",
       "      <td>1.311527</td>\n",
       "      <td>...</td>\n",
       "      <td>2011-10-31 21:59:00-07:00</td>\n",
       "      <td>10</td>\n",
       "      <td>$1,$20,$35,$50,$60,$100,$110,$500,$1,000,$1,500</td>\n",
       "      <td>6</td>\n",
       "      <td>5</td>\n",
       "      <td>35.29</td>\n",
       "      <td>35.0</td>\n",
       "      <td>October</td>\n",
       "      <td>Monday</td>\n",
       "      <td>21</td>\n",
       "    </tr>\n",
       "  </tbody>\n",
       "</table>\n",
       "<p>10 rows × 21 columns</p>\n",
       "</div>"
      ],
      "text/plain": [
       "   project_id                                               name  \\\n",
       "0       39409                              WHILE THE TREES SLEEP   \n",
       "1      126581               Educational Online Trading Card Game   \n",
       "2      138119                                              STRUM   \n",
       "3      237090  GETTING OVER - One son's search to finally kno...   \n",
       "4      246101  The Launch of FlyeGrlRoyalty &quot;The New Nam...   \n",
       "5      316217  Dinner Party - a short film about friendship.....   \n",
       "6      325034                                              Mezzo   \n",
       "7      407836  Help APORTA continue to make handwoven/knit ac...   \n",
       "8      436325                            Music - Comedy - Album!   \n",
       "9      610918                            The Apocalypse Calendar   \n",
       "\n",
       "                                                 url      category  \\\n",
       "0  http://www.kickstarter.com/projects/emiliesaba...  Film & Video   \n",
       "1  http://www.kickstarter.com/projects/972789543/...         Games   \n",
       "2  http://www.kickstarter.com/projects/185476022/...  Film & Video   \n",
       "3  http://www.kickstarter.com/projects/charnick/g...  Film & Video   \n",
       "4  http://www.kickstarter.com/projects/flyegrlroy...       Fashion   \n",
       "5  http://www.kickstarter.com/projects/249354515/...  Film & Video   \n",
       "6  http://www.kickstarter.com/projects/geoffsaysh...  Film & Video   \n",
       "7  http://www.kickstarter.com/projects/1078097864...       Fashion   \n",
       "8  http://www.kickstarter.com/projects/mattgriffo...         Music   \n",
       "9  http://www.kickstarter.com/projects/tqvinn/the...           Art   \n",
       "\n",
       "          subcategory         location      status     goal  pledged  \\\n",
       "0          Short Film     Columbia, MO  successful  10500.0  11545.0   \n",
       "1  Board & Card Games    Maplewood, NJ      failed   4000.0     20.0   \n",
       "2           Animation  Los Angeles, CA        live  20000.0     56.0   \n",
       "3         Documentary  Los Angeles, CA  successful   6000.0   6535.0   \n",
       "4             Fashion         Novi, MI      failed   3500.0      0.0   \n",
       "5          Short Film     Portland, OR  successful   3500.0   3582.0   \n",
       "6          Short Film  Collegedale, TN      failed   1000.0    280.0   \n",
       "7             Fashion      Chicago, IL  successful   2000.0   2180.0   \n",
       "8               Music      Chicago, IL  successful   1000.0   1125.0   \n",
       "9        Illustration      Chicago, IL  successful   7500.0   9836.0   \n",
       "\n",
       "   funded_percentage  ...               funded_date levels  \\\n",
       "0           1.099524  ... 2011-08-19 12:28:17-07:00      7   \n",
       "1           0.005000  ... 2010-08-01 20:59:00-07:00      5   \n",
       "2           0.002800  ... 2012-06-07 17:00:31-07:00     10   \n",
       "3           1.089167  ... 2012-04-07 19:14:00-07:00     13   \n",
       "4           0.000000  ... 2011-06-01 08:25:39-07:00      6   \n",
       "5           1.023331  ... 2011-06-22 06:33:00-07:00      7   \n",
       "6           0.280000  ... 2012-02-17 18:17:08-08:00      5   \n",
       "7           1.090000  ... 2011-12-29 20:36:53-08:00      7   \n",
       "8           1.125000  ... 2010-04-17 21:59:00-07:00     12   \n",
       "9           1.311527  ... 2011-10-31 21:59:00-07:00     10   \n",
       "\n",
       "                                       reward_levels updates  comments  \\\n",
       "0               $25,$50,$100,$250,$500,$1,000,$2,500      10         2   \n",
       "1                                  $1,$5,$10,$25,$50       6         0   \n",
       "2  $1,$10,$25,$40,$50,$100,$250,$1,000,$1,337,$9,001       1         0   \n",
       "3  $1,$10,$25,$30,$50,$75,$85,$100,$110,$250,$500...       4         0   \n",
       "4                         $10,$25,$50,$100,$150,$250       2         0   \n",
       "5                   $5,$25,$50,$100,$250,$500,$1,000       8         0   \n",
       "6                                $5,$10,$25,$50,$100       0         0   \n",
       "7                  $10,$20,$50,$100,$250,$500,$1,000      13         5   \n",
       "8  $5,$8,$10,$15,$20,$30,$50,$100,$120,$250,$500,...      10         1   \n",
       "9    $1,$20,$35,$50,$60,$100,$110,$500,$1,000,$1,500       6         5   \n",
       "\n",
       "   duration  duration_rounded  funded_date_month funded_date_dayofweek  \\\n",
       "0     30.00              30.0             August                Friday   \n",
       "1     47.18              47.0             August                Sunday   \n",
       "2     28.00              28.0               June              Thursday   \n",
       "3     32.22              32.0              April              Saturday   \n",
       "4     30.00              30.0               June             Wednesday   \n",
       "5     21.43              21.0               June             Wednesday   \n",
       "6     30.00              30.0           February                Friday   \n",
       "7     30.00              30.0           December              Thursday   \n",
       "8     67.53              68.0              April              Saturday   \n",
       "9     35.29              35.0            October                Monday   \n",
       "\n",
       "  funded_date_hour  \n",
       "0               12  \n",
       "1               20  \n",
       "2               17  \n",
       "3               19  \n",
       "4                8  \n",
       "5                6  \n",
       "6               18  \n",
       "7               20  \n",
       "8               21  \n",
       "9               21  \n",
       "\n",
       "[10 rows x 21 columns]"
      ]
     },
     "execution_count": 36,
     "metadata": {},
     "output_type": "execute_result"
    }
   ],
   "source": [
    "# convert the datetime to be US Pacific\n",
    "df['funded_date'] = pd.DatetimeIndex(df['funded_date']).tz_convert('US/Pacific')\n",
    "\n",
    "# extract the individual components of the datetime\n",
    "df['funded_date_month'] = pd.DatetimeIndex(df['funded_date']).month_name()\n",
    "df['funded_date_dayofweek'] = pd.DatetimeIndex(df['funded_date']).day_name()\n",
    "df['funded_date_hour'] = pd.DatetimeIndex(df['funded_date']).hour\n",
    "\n",
    "# and check the results\n",
    "df.head(10)\n"
   ]
  },
  {
   "cell_type": "markdown",
   "id": "3ebca62c",
   "metadata": {},
   "source": [
    "Now that we have the data successfully extract, we can do some computation on it (essentially repeating what we did with the category work)"
   ]
  },
  {
   "cell_type": "code",
   "execution_count": 37,
   "id": "66e80b13",
   "metadata": {},
   "outputs": [
    {
     "name": "stderr",
     "output_type": "stream",
     "text": [
      "/home/henry/Data/Kickstarter/kickstarter-data/lib/python3.8/site-packages/seaborn/categorical.py:3717: UserWarning: The `factorplot` function has been renamed to `catplot`. The original name will be removed in a future release. Please update your code. Note that the default `kind` in `factorplot` (`'point'`) has changed `'strip'` in `catplot`.\n",
      "  warnings.warn(msg)\n"
     ]
    },
    {
     "data": {
      "image/png": "[encoded data removed]",
      "text/plain": [
       "<Figure size 360x360 with 1 Axes>"
      ]
     },
     "metadata": {
      "needs_background": "light"
     },
     "output_type": "display_data"
    }
   ],
   "source": [
    "# Pivot the data on month and status\n",
    "month_grouped = df.groupby(['funded_date_month', 'status']).agg({'name': 'count'})\n",
    "\n",
    "# Calculate the data as a percentage of its peers \n",
    "month_grouped_percents = month_grouped.groupby(level=0).apply(lambda x: 100 * x / float(x.sum())).reset_index()\n",
    "\n",
    "# Filter to successful projects only\n",
    "month_grouped_percents_successonly = month_grouped_percents[month_grouped_percents['status']=='successful']\n",
    "\n",
    "# And plot it!\n",
    "sns.factorplot(y='funded_date_month', x='name', data=month_grouped_percents_successonly, kind='bar')\n",
    "plt.xlabel('% Successful Projects')\n",
    "plt.ylabel('Month')\n",
    "plt.title('Success by Month')\n",
    "plt.show()"
   ]
  },
  {
   "cell_type": "code",
   "execution_count": 38,
   "id": "eae77dcc",
   "metadata": {},
   "outputs": [
    {
     "name": "stderr",
     "output_type": "stream",
     "text": [
      "/home/henry/Data/Kickstarter/kickstarter-data/lib/python3.8/site-packages/seaborn/categorical.py:3717: UserWarning: The `factorplot` function has been renamed to `catplot`. The original name will be removed in a future release. Please update your code. Note that the default `kind` in `factorplot` (`'point'`) has changed `'strip'` in `catplot`.\n",
      "  warnings.warn(msg)\n"
     ]
    },
    {
     "data": {
      "image/png": "[encoded data removed]",
      "text/plain": [
       "<Figure size 360x360 with 1 Axes>"
      ]
     },
     "metadata": {
      "needs_background": "light"
     },
     "output_type": "display_data"
    }
   ],
   "source": [
    "# Pivot the data on day of week and status\n",
    "dayofweek_grouped = df.groupby(['funded_date_dayofweek', 'status']).agg({'name': 'count'})\n",
    "\n",
    "# Calculate the data as a percentage of its peers \n",
    "dayofweek_grouped_percents = dayofweek_grouped.groupby(level=0).apply(lambda x: 100 * x / float(x.sum())).reset_index()\n",
    "\n",
    "# Filter to successful projects only\n",
    "dayofweek_grouped_percents_successonly = dayofweek_grouped_percents[dayofweek_grouped_percents['status']=='successful']\n",
    "\n",
    "# And plot it!\n",
    "sns.factorplot(y='funded_date_dayofweek', x='name', data=dayofweek_grouped_percents_successonly, kind='bar')\n",
    "plt.xlabel('% Successful Projects')\n",
    "plt.ylabel('Day of Week')\n",
    "plt.title('Success by Day of Week')\n",
    "plt.show()"
   ]
  },
  {
   "cell_type": "code",
   "execution_count": 98,
   "id": "77c92540",
   "metadata": {},
   "outputs": [
    {
     "data": {
      "image/png": "[encoded data removed]",
      "text/plain": [
       "<Figure size 1008x504 with 1 Axes>"
      ]
     },
     "metadata": {
      "needs_background": "light"
     },
     "output_type": "display_data"
    }
   ],
   "source": [
    "# Pivot the data on hour and status\n",
    "hour_grouped = df.groupby(['funded_date_hour', 'status']).agg({'name': 'count'})\n",
    "\n",
    "# Calculate the data as a percentage of its peers \n",
    "hour_grouped_percents = hour_grouped.groupby(level=0).apply(lambda x: 100 * x / float(x.sum())).reset_index()\n",
    "\n",
    "# Filter to successful projects only\n",
    "hour_grouped_percents_successonly = hour_grouped_percents[hour_grouped_percents['status']=='successful']\n",
    "\n",
    "# And plot it!\n",
    "sns.catplot(y='funded_date_hour', x='name', data=hour_grouped_percents_successonly, kind='bar', orient = 'h', height=7, aspect=2)\n",
    "plt.xlabel('% Successful Projects')\n",
    "plt.ylabel('Hour')\n",
    "plt.title('Success by Hour')\n",
    "plt.show()"
   ]
  },
  {
   "cell_type": "markdown",
   "id": "f7c9054f",
   "metadata": {},
   "source": [
    "As long as you avoid the summer months and launch your project late in the evening or at the start of the day, your project will have a higher chance of being successful. If you really want to have a little extra luck, do it on a Monday!"
   ]
  },
  {
   "cell_type": "code",
   "execution_count": null,
   "id": "a8ac8020",
   "metadata": {},
   "outputs": [],
   "source": []
  }
 ],
 "metadata": {
  "kernelspec": {
   "display_name": "Python 3 (ipykernel)",
   "language": "python",
   "name": "python3"
  },
  "language_info": {
   "codemirror_mode": {
    "name": "ipython",
    "version": 3
   },
   "file_extension": ".py",
   "mimetype": "text/x-python",
   "name": "python",
   "nbconvert_exporter": "python",
   "pygments_lexer": "ipython3",
   "version": "3.8.5"
  }
 },
 "nbformat": 4,
 "nbformat_minor": 5
}
